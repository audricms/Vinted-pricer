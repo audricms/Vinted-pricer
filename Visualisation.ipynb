{
 "cells": [
  {
   "cell_type": "code",
   "execution_count": null,
   "id": "9a176a43-fb81-43d7-a100-53ffa1e25c6f",
   "metadata": {},
   "outputs": [],
   "source": [
    "#Importation et petit nettoyage des données\n",
    "dfdesc = pd.read_csv('Bases de données/desc.csv', index)\n",
    "def round2(x):\n",
    "    if np.isnan(x) :\n",
    "        return(0)\n",
    "    else :\n",
    "        return round(x,2)\n",
    "dfdesc['%popent']=dfdesc['%popent'].apply(round2)"
   ]
  },
  {
   "cell_type": "code",
   "execution_count": null,
   "id": "b63cd4c1-df15-4717-b6ee-8f380aaf3317",
   "metadata": {},
   "outputs": [],
   "source": [
    "\n",
    "dfdesc.sort_values('%popent').plot(x='%popent', \n",
    "                                   y='mean', \n",
    "                                   kind = 'bar', \n",
    "                                   fontsize=5.5, \n",
    "                                   xlabel='% de votes pour la NUPES ou les Ecologistes par département',\n",
    "                                  ylabel='Prix moyen (€)',\n",
    "                                  legend=False,\n",
    "                                  title='Prix moyen (€) des annonces de jeans hommes par département\\nen fonction du % de votes pour des partis écologistes\\n(la NUPES, les Ecologistes)',\n",
    "                                  colormap='summer')"
   ]
  },
  {
   "cell_type": "code",
   "execution_count": null,
   "id": "1fa2012e-6e3d-44c0-8759-fe5e58634f29",
   "metadata": {},
   "outputs": [],
   "source": [
    "dfdesc.sort_values('%popent').plot(x='%popent', \n",
    "                                   y='count', \n",
    "                                   kind = 'bar', \n",
    "                                   fontsize=5.5, \n",
    "                                   xlabel='% de votes pour la NUPES ou les Ecologistes par département',\n",
    "                                  ylabel=\"Nombre d'annonces\",\n",
    "                                  legend=False,\n",
    "                                  title=\"Nombre d'annonces de jeans hommes par département\\nen fonction du % de votes pour des partis écologistes\\n(la NUPES, les Ecologistes)\",\n",
    "                                  colormap='winter')"
   ]
  }
 ],
 "metadata": {
  "kernelspec": {
   "display_name": "Python 3 (ipykernel)",
   "language": "python",
   "name": "python3"
  },
  "language_info": {
   "codemirror_mode": {
    "name": "ipython",
    "version": 3
   },
   "file_extension": ".py",
   "mimetype": "text/x-python",
   "name": "python",
   "nbconvert_exporter": "python",
   "pygments_lexer": "ipython3",
   "version": "3.10.13"
  }
 },
 "nbformat": 4,
 "nbformat_minor": 5
}
