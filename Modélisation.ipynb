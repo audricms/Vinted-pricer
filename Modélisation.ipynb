{
 "cells": [
  {
   "cell_type": "code",
   "execution_count": null,
   "id": "8def47fb-9592-4a49-bebc-8be1f64b15b1",
   "metadata": {},
   "outputs": [],
   "source": [
    "import pandas as pd"
   ]
  },
  {
   "cell_type": "code",
   "execution_count": null,
   "id": "50e8f7de-348e-42d9-a495-dfdb6a0296c4",
   "metadata": {},
   "outputs": [],
   "source": [
    "df3 = pd.read_csv('Bases de données/jeansville.csv')\n",
    "df4 = pd.read_csv(/Bases de données/revenus.csv')\n",
    "colonne_revenu= 'Niveau de Vie Commune'\n",
    "\n",
    "# fusion des deux data frames\n",
    "df5 = pd.merge(df3, df4[['colonne_revenu']], left_index=True, right_index=True, how='left')\n",
    "print(df5)\n"
   ]
  },
  {
   "cell_type": "code",
   "execution_count": null,
   "id": "21c40c7f-03d4-4225-96c4-b3723661cac3",
   "metadata": {},
   "outputs": [],
   "source": [
    "df5"
   ]
  },
  {
   "cell_type": "code",
   "execution_count": null,
   "id": "b38cbf00-f49d-45cf-a8e0-fd00f82acf70",
   "metadata": {},
   "outputs": [],
   "source": []
  }
 ],
 "metadata": {
  "kernelspec": {
   "display_name": "Python 3 (ipykernel)",
   "language": "python",
   "name": "python3"
  },
  "language_info": {
   "codemirror_mode": {
    "name": "ipython",
    "version": 3
   },
   "file_extension": ".py",
   "mimetype": "text/x-python",
   "name": "python",
   "nbconvert_exporter": "python",
   "pygments_lexer": "ipython3",
   "version": "3.10.13"
  }
 },
 "nbformat": 4,
 "nbformat_minor": 5
}
