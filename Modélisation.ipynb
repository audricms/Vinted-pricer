{
 "cells": [
  {
   "cell_type": "code",
   "execution_count": 20,
   "id": "8def47fb-9592-4a49-bebc-8be1f64b15b1",
   "metadata": {},
   "outputs": [],
   "source": [
    "import numpy as np\n",
    "from sklearn import preprocessing\n",
    "from sklearn.linear_model import LinearRegression\n",
    "from sklearn.model_selection import train_test_split\n",
    "import sklearn.metrics\n",
    "import matplotlib.pyplot as plt\n",
    "import seaborn as sns\n",
    "import pandas as pd"
   ]
  },
  {
   "cell_type": "code",
   "execution_count": 21,
   "id": "50e8f7de-348e-42d9-a495-dfdb6a0296c4",
   "metadata": {},
   "outputs": [],
   "source": [
    "dfjointe = pd.read_csv('Bases de données/donnéesjointes.csv')\n",
    "dfjointe.drop('Unnamed: 0', axis=1, inplace=True)\n",
    "\n",
    "path = 'Bases de données/revenus.csv'\n",
    "dfrev = pd.read_csv(path, sep = ';')\n",
    "rename = {'CodePostal' : 'Code postal', ' Niveau de vie Commune ':'Niveau de vie commune', ' NiveaudevieDépartement ':'Niveau de vie département', 'Departement' : 'Département'}\n",
    "dfrev = dfrev.rename(rename, axis= 1)\n",
    "\n",
    "#On garde les colonnes qui nous intéresse\n",
    "dfrev.drop(['Code postal', 'Niveau de vie département'], axis=1, inplace=True)\n",
    "dfrev.set_index('Nom Commune', inplace=True)\n",
    "dfjointe = dfjointe.join(dfrev, on='Localisation', how='left')\n",
    "dfjointe.reset_index(inplace=True)\n",
    "dfjointe.drop_duplicates(subset='index', inplace=True)\n",
    "dfjointe.set_index('index', inplace=True)"
   ]
  },
  {
   "cell_type": "code",
   "execution_count": 22,
   "id": "32a24552-673e-4205-aaab-167135f51730",
   "metadata": {},
   "outputs": [
    {
     "data": {
      "text/html": [
       "<div>\n",
       "<style scoped>\n",
       "    .dataframe tbody tr th:only-of-type {\n",
       "        vertical-align: middle;\n",
       "    }\n",
       "\n",
       "    .dataframe tbody tr th {\n",
       "        vertical-align: top;\n",
       "    }\n",
       "\n",
       "    .dataframe thead th {\n",
       "        text-align: right;\n",
       "    }\n",
       "</style>\n",
       "<table border=\"1\" class=\"dataframe\">\n",
       "  <thead>\n",
       "    <tr style=\"text-align: right;\">\n",
       "      <th></th>\n",
       "      <th>Prix (€)</th>\n",
       "      <th>Marque</th>\n",
       "      <th>Taille</th>\n",
       "      <th>Etat</th>\n",
       "      <th>Matière</th>\n",
       "      <th>Localisation</th>\n",
       "      <th>Option de paiement</th>\n",
       "      <th>Vues</th>\n",
       "      <th>Date d'ajout</th>\n",
       "      <th>Département</th>\n",
       "      <th>Libellé du département</th>\n",
       "      <th>Nbvoix</th>\n",
       "      <th>%popent</th>\n",
       "      <th>%popvot</th>\n",
       "      <th>Niveau de vie commune</th>\n",
       "    </tr>\n",
       "    <tr>\n",
       "      <th>index</th>\n",
       "      <th></th>\n",
       "      <th></th>\n",
       "      <th></th>\n",
       "      <th></th>\n",
       "      <th></th>\n",
       "      <th></th>\n",
       "      <th></th>\n",
       "      <th></th>\n",
       "      <th></th>\n",
       "      <th></th>\n",
       "      <th></th>\n",
       "      <th></th>\n",
       "      <th></th>\n",
       "      <th></th>\n",
       "      <th></th>\n",
       "    </tr>\n",
       "  </thead>\n",
       "  <tbody>\n",
       "    <tr>\n",
       "      <th>0</th>\n",
       "      <td>6.0</td>\n",
       "      <td>NaN</td>\n",
       "      <td>W34 | FR 44</td>\n",
       "      <td>Très bon état</td>\n",
       "      <td>NaN</td>\n",
       "      <td>Tourny</td>\n",
       "      <td>Carte bancaire</td>\n",
       "      <td>13</td>\n",
       "      <td>12/28/2023, 6:19:17 PM</td>\n",
       "      <td>27.0</td>\n",
       "      <td>Eure</td>\n",
       "      <td>53761.0</td>\n",
       "      <td>12.39</td>\n",
       "      <td>25.92</td>\n",
       "      <td>21 250</td>\n",
       "    </tr>\n",
       "    <tr>\n",
       "      <th>1</th>\n",
       "      <td>5.0</td>\n",
       "      <td>Zara</td>\n",
       "      <td>W32 | FR 42</td>\n",
       "      <td>Satisfaisant</td>\n",
       "      <td>NaN</td>\n",
       "      <td>Riantec</td>\n",
       "      <td>Carte bancaire</td>\n",
       "      <td>2</td>\n",
       "      <td>12/29/2023, 10:43:33 AM</td>\n",
       "      <td>56.0</td>\n",
       "      <td>Morbihan</td>\n",
       "      <td>82148.0</td>\n",
       "      <td>13.44</td>\n",
       "      <td>26.09</td>\n",
       "      <td>20 710</td>\n",
       "    </tr>\n",
       "    <tr>\n",
       "      <th>2</th>\n",
       "      <td>6.0</td>\n",
       "      <td>Zara</td>\n",
       "      <td>W30 | FR 40</td>\n",
       "      <td>Très bon état</td>\n",
       "      <td>NaN</td>\n",
       "      <td>Feignies</td>\n",
       "      <td>Carte bancaire</td>\n",
       "      <td>1</td>\n",
       "      <td>12/29/2023, 11:39:14 AM</td>\n",
       "      <td>59.0</td>\n",
       "      <td>Nord</td>\n",
       "      <td>232470.0</td>\n",
       "      <td>12.77</td>\n",
       "      <td>29.29</td>\n",
       "      <td>16 860</td>\n",
       "    </tr>\n",
       "    <tr>\n",
       "      <th>3</th>\n",
       "      <td>5.0</td>\n",
       "      <td>Leeyo Jeans</td>\n",
       "      <td>W28 | FR 38</td>\n",
       "      <td>Très bon état</td>\n",
       "      <td>NaN</td>\n",
       "      <td>Buigny-Saint-Maclou</td>\n",
       "      <td>Carte bancaire</td>\n",
       "      <td>0</td>\n",
       "      <td>12/29/2023, 12:51:07 PM</td>\n",
       "      <td>80.0</td>\n",
       "      <td>Somme</td>\n",
       "      <td>52514.0</td>\n",
       "      <td>12.78</td>\n",
       "      <td>26.61</td>\n",
       "      <td>21 846</td>\n",
       "    </tr>\n",
       "    <tr>\n",
       "      <th>4</th>\n",
       "      <td>5.0</td>\n",
       "      <td>Casual by Gémo</td>\n",
       "      <td>W38 | FR 48</td>\n",
       "      <td>Neuf sans étiquette</td>\n",
       "      <td>NaN</td>\n",
       "      <td>Fougueyrolles</td>\n",
       "      <td>Carte bancaire</td>\n",
       "      <td>1</td>\n",
       "      <td>12/29/2023, 11:09:58 AM</td>\n",
       "      <td>24.0</td>\n",
       "      <td>Dordogne</td>\n",
       "      <td>43986.0</td>\n",
       "      <td>13.77</td>\n",
       "      <td>25.77</td>\n",
       "      <td>18 238</td>\n",
       "    </tr>\n",
       "    <tr>\n",
       "      <th>...</th>\n",
       "      <td>...</td>\n",
       "      <td>...</td>\n",
       "      <td>...</td>\n",
       "      <td>...</td>\n",
       "      <td>...</td>\n",
       "      <td>...</td>\n",
       "      <td>...</td>\n",
       "      <td>...</td>\n",
       "      <td>...</td>\n",
       "      <td>...</td>\n",
       "      <td>...</td>\n",
       "      <td>...</td>\n",
       "      <td>...</td>\n",
       "      <td>...</td>\n",
       "      <td>...</td>\n",
       "    </tr>\n",
       "    <tr>\n",
       "      <th>1391</th>\n",
       "      <td>5.0</td>\n",
       "      <td>H&amp;M</td>\n",
       "      <td>W23 | FR 32</td>\n",
       "      <td>Très bon état</td>\n",
       "      <td>NaN</td>\n",
       "      <td>Paris</td>\n",
       "      <td>Carte bancaire</td>\n",
       "      <td>12</td>\n",
       "      <td>12/27/2023, 12:27:55 PM</td>\n",
       "      <td>75.0</td>\n",
       "      <td>Paris</td>\n",
       "      <td>298944.0</td>\n",
       "      <td>21.94</td>\n",
       "      <td>40.16</td>\n",
       "      <td>NaN</td>\n",
       "    </tr>\n",
       "    <tr>\n",
       "      <th>1392</th>\n",
       "      <td>9.0</td>\n",
       "      <td>AARHON</td>\n",
       "      <td>W30 | FR 40</td>\n",
       "      <td>Neuf sans étiquette</td>\n",
       "      <td>NaN</td>\n",
       "      <td>Esternay</td>\n",
       "      <td>Carte bancaire</td>\n",
       "      <td>5</td>\n",
       "      <td>12/29/2023, 1:50:51 PM</td>\n",
       "      <td>51.0</td>\n",
       "      <td>Marne</td>\n",
       "      <td>37475.0</td>\n",
       "      <td>9.80</td>\n",
       "      <td>21.94</td>\n",
       "      <td>18 285</td>\n",
       "    </tr>\n",
       "    <tr>\n",
       "      <th>1393</th>\n",
       "      <td>5.0</td>\n",
       "      <td>SMOG</td>\n",
       "      <td>W36 | FR 46</td>\n",
       "      <td>Bon état</td>\n",
       "      <td>NaN</td>\n",
       "      <td>Le Mans</td>\n",
       "      <td>Carte bancaire</td>\n",
       "      <td>6</td>\n",
       "      <td>12/28/2023, 8:43:05 PM</td>\n",
       "      <td>72.0</td>\n",
       "      <td>Sarthe</td>\n",
       "      <td>46201.0</td>\n",
       "      <td>11.21</td>\n",
       "      <td>25.23</td>\n",
       "      <td>19 113</td>\n",
       "    </tr>\n",
       "    <tr>\n",
       "      <th>1394</th>\n",
       "      <td>5.0</td>\n",
       "      <td>Celio</td>\n",
       "      <td>W33 | FR 42</td>\n",
       "      <td>Très bon état</td>\n",
       "      <td>NaN</td>\n",
       "      <td>Sorgues</td>\n",
       "      <td>Carte bancaire</td>\n",
       "      <td>18</td>\n",
       "      <td>12/26/2023, 4:57:37 PM</td>\n",
       "      <td>84.0</td>\n",
       "      <td>Vaucluse</td>\n",
       "      <td>49879.0</td>\n",
       "      <td>12.06</td>\n",
       "      <td>26.27</td>\n",
       "      <td>17 638</td>\n",
       "    </tr>\n",
       "    <tr>\n",
       "      <th>1395</th>\n",
       "      <td>5.0</td>\n",
       "      <td>Jules</td>\n",
       "      <td>W26 | FR 36</td>\n",
       "      <td>Très bon état</td>\n",
       "      <td>Coton</td>\n",
       "      <td>Saint-Aubin-lès-Elbeuf</td>\n",
       "      <td>Carte bancaire</td>\n",
       "      <td>1</td>\n",
       "      <td>12/29/2023, 3:37:47 PM</td>\n",
       "      <td>76.0</td>\n",
       "      <td>Seine-Maritime</td>\n",
       "      <td>134442.0</td>\n",
       "      <td>15.23</td>\n",
       "      <td>31.92</td>\n",
       "      <td>19 806</td>\n",
       "    </tr>\n",
       "  </tbody>\n",
       "</table>\n",
       "<p>1396 rows × 15 columns</p>\n",
       "</div>"
      ],
      "text/plain": [
       "       Prix (€)          Marque       Taille                 Etat Matière  \\\n",
       "index                                                                       \n",
       "0           6.0             NaN  W34 | FR 44        Très bon état     NaN   \n",
       "1           5.0            Zara  W32 | FR 42         Satisfaisant     NaN   \n",
       "2           6.0            Zara  W30 | FR 40        Très bon état     NaN   \n",
       "3           5.0     Leeyo Jeans  W28 | FR 38        Très bon état     NaN   \n",
       "4           5.0  Casual by Gémo  W38 | FR 48  Neuf sans étiquette     NaN   \n",
       "...         ...             ...          ...                  ...     ...   \n",
       "1391        5.0             H&M  W23 | FR 32        Très bon état     NaN   \n",
       "1392        9.0          AARHON  W30 | FR 40  Neuf sans étiquette     NaN   \n",
       "1393        5.0            SMOG  W36 | FR 46             Bon état     NaN   \n",
       "1394        5.0           Celio  W33 | FR 42        Très bon état     NaN   \n",
       "1395        5.0           Jules  W26 | FR 36        Très bon état   Coton   \n",
       "\n",
       "                 Localisation Option de paiement  Vues  \\\n",
       "index                                                    \n",
       "0                      Tourny     Carte bancaire    13   \n",
       "1                     Riantec     Carte bancaire     2   \n",
       "2                    Feignies     Carte bancaire     1   \n",
       "3         Buigny-Saint-Maclou     Carte bancaire     0   \n",
       "4               Fougueyrolles     Carte bancaire     1   \n",
       "...                       ...                ...   ...   \n",
       "1391                    Paris     Carte bancaire    12   \n",
       "1392                 Esternay     Carte bancaire     5   \n",
       "1393                  Le Mans     Carte bancaire     6   \n",
       "1394                  Sorgues     Carte bancaire    18   \n",
       "1395   Saint-Aubin-lès-Elbeuf     Carte bancaire     1   \n",
       "\n",
       "                  Date d'ajout  Département Libellé du département    Nbvoix  \\\n",
       "index                                                                          \n",
       "0       12/28/2023, 6:19:17 PM         27.0                   Eure   53761.0   \n",
       "1      12/29/2023, 10:43:33 AM         56.0               Morbihan   82148.0   \n",
       "2      12/29/2023, 11:39:14 AM         59.0                   Nord  232470.0   \n",
       "3      12/29/2023, 12:51:07 PM         80.0                  Somme   52514.0   \n",
       "4      12/29/2023, 11:09:58 AM         24.0               Dordogne   43986.0   \n",
       "...                        ...          ...                    ...       ...   \n",
       "1391   12/27/2023, 12:27:55 PM         75.0                  Paris  298944.0   \n",
       "1392    12/29/2023, 1:50:51 PM         51.0                  Marne   37475.0   \n",
       "1393    12/28/2023, 8:43:05 PM         72.0                 Sarthe   46201.0   \n",
       "1394    12/26/2023, 4:57:37 PM         84.0               Vaucluse   49879.0   \n",
       "1395    12/29/2023, 3:37:47 PM         76.0         Seine-Maritime  134442.0   \n",
       "\n",
       "       %popent  %popvot Niveau de vie commune  \n",
       "index                                          \n",
       "0        12.39    25.92             21 250     \n",
       "1        13.44    26.09             20 710     \n",
       "2        12.77    29.29             16 860     \n",
       "3        12.78    26.61             21 846     \n",
       "4        13.77    25.77             18 238     \n",
       "...        ...      ...                   ...  \n",
       "1391     21.94    40.16                   NaN  \n",
       "1392      9.80    21.94             18 285     \n",
       "1393     11.21    25.23             19 113     \n",
       "1394     12.06    26.27             17 638     \n",
       "1395     15.23    31.92             19 806     \n",
       "\n",
       "[1396 rows x 15 columns]"
      ]
     },
     "execution_count": 22,
     "metadata": {},
     "output_type": "execute_result"
    }
   ],
   "source": [
    "dfjointe"
   ]
  },
  {
   "cell_type": "code",
   "execution_count": 62,
   "id": "b482a203-9be0-4575-9d6e-ad3ca03071e5",
   "metadata": {},
   "outputs": [],
   "source": [
    "#Pas de prise en compte des marques car non exhaustif, de la matière car trop peu de données,\n",
    "#d'option de paiement car tjrs carte bleue, pas le département car déja décrit par le revenu\n",
    "#et les votes\n",
    "dfmodel = pd.DataFrame()\n",
    "dfmodel = dfjointe[['Prix (€)', 'Taille', 'Etat', 'Vues', '%popvot', 'Niveau de vie commune']]\n",
    "dfmodel = dfmodel.dropna()\n",
    "\n",
    "dfmodel['Niveau de vie commune'] = dfmodel['Niveau de vie commune'].apply(lambda x: x.replace(' ',''))\n",
    "dfmodel['Niveau de vie commune'] = pd.to_numeric(dfmodel['Niveau de vie commune'])\n",
    "dfmodel['Vues'] = pd.to_numeric(dfmodel['Vues'])\n",
    "\n",
    "#transformation des variables catégorielles, jean de base est S et bon état\n",
    "dummiesEtat = pd.get_dummies(dfmodel['Etat'], drop_first=True, dtype=int)\n",
    "dummiesTaille = pd.get_dummies(dfmodel['Taille'], drop_first=False, dtype=int)\n",
    "dummiesTaille.drop('S', axis=1, inplace=True)\n",
    "dfmodel.drop(['Taille', 'Etat'], axis=1, inplace=True)\n",
    "dfmodeldummies = pd.concat([dfmodel, dummiesTaille, dummiesEtat], axis=1)"
   ]
  },
  {
   "cell_type": "code",
   "execution_count": 100,
   "id": "b38cbf00-f49d-45cf-a8e0-fd00f82acf70",
   "metadata": {},
   "outputs": [],
   "source": [
    "#Pas de stratification par les communes possibles car trop peu de sorties de prix\n",
    "X_train, X_test, Y_train, Y_test = train_test_split(dfmodeldummies[['Vues', '%popvot', 'Niveau de vie commune',\n",
    "                                                                    'L', 'M', '5XL',\n",
    "                                                                    'W23 | FR 32',\n",
    "                                                                    'W24 | FR 34',\n",
    "                                                                    'W25 | FR 34',\n",
    "                                                                    'W26 | FR 36',\n",
    "                                                                    'W27 | FR 36',\n",
    "                                                                    'W28 | FR 38',\n",
    "                                                                    'W29 | FR 38',\n",
    "                                                                    'W30 | FR 40',\n",
    "                                                                    'W31 | FR 40',\n",
    "                                                                    'W32 | FR 42',\n",
    "                                                                    'W33 | FR 42',\n",
    "                                                                    'W34 | FR 44',\n",
    "                                                                    'W36 | FR 46',\n",
    "                                                                    'W38 | FR 48',\n",
    "                                                                    'W40 | FR 50',\n",
    "                                                                    'W48 | FR 58',\n",
    "                                                                    'XL',\n",
    "                                                                    'XXS / 32 / 4',\n",
    "                                                                    'Neuf avec étiquette',\n",
    "                                                                    'Neuf sans étiquette',\n",
    "                                                                    'Satisfaisant',\n",
    "                                                                    'Très bon état'\n",
    "                                                                   ]],\n",
    "                                                    dfmodeldummies['Prix (€)'],\n",
    "                                                    train_size=0.7,\n",
    "                                                   )"
   ]
  },
  {
   "cell_type": "code",
   "execution_count": 101,
   "id": "dda6ee27-8c07-4846-bb48-a9d787d7f2c5",
   "metadata": {},
   "outputs": [],
   "source": [
    "scaler = preprocessing.StandardScaler()\n",
    "X_train = scaler.fit_transform(X_train)\n",
    "X_test = scaler.transform(X_test)\n",
    "\n",
    "normalizer = preprocessing.Normalizer()\n",
    "X_train = normalizer.fit_transform(X_train)\n",
    "X_test = normalizer.transform(X_test)"
   ]
  },
  {
   "cell_type": "code",
   "execution_count": 102,
   "id": "07fb3726-2484-499a-b8aa-bbf6bef3eeb8",
   "metadata": {},
   "outputs": [
    {
     "data": {
      "text/html": [
       "<style>#sk-container-id-11 {color: black;}#sk-container-id-11 pre{padding: 0;}#sk-container-id-11 div.sk-toggleable {background-color: white;}#sk-container-id-11 label.sk-toggleable__label {cursor: pointer;display: block;width: 100%;margin-bottom: 0;padding: 0.3em;box-sizing: border-box;text-align: center;}#sk-container-id-11 label.sk-toggleable__label-arrow:before {content: \"▸\";float: left;margin-right: 0.25em;color: #696969;}#sk-container-id-11 label.sk-toggleable__label-arrow:hover:before {color: black;}#sk-container-id-11 div.sk-estimator:hover label.sk-toggleable__label-arrow:before {color: black;}#sk-container-id-11 div.sk-toggleable__content {max-height: 0;max-width: 0;overflow: hidden;text-align: left;background-color: #f0f8ff;}#sk-container-id-11 div.sk-toggleable__content pre {margin: 0.2em;color: black;border-radius: 0.25em;background-color: #f0f8ff;}#sk-container-id-11 input.sk-toggleable__control:checked~div.sk-toggleable__content {max-height: 200px;max-width: 100%;overflow: auto;}#sk-container-id-11 input.sk-toggleable__control:checked~label.sk-toggleable__label-arrow:before {content: \"▾\";}#sk-container-id-11 div.sk-estimator input.sk-toggleable__control:checked~label.sk-toggleable__label {background-color: #d4ebff;}#sk-container-id-11 div.sk-label input.sk-toggleable__control:checked~label.sk-toggleable__label {background-color: #d4ebff;}#sk-container-id-11 input.sk-hidden--visually {border: 0;clip: rect(1px 1px 1px 1px);clip: rect(1px, 1px, 1px, 1px);height: 1px;margin: -1px;overflow: hidden;padding: 0;position: absolute;width: 1px;}#sk-container-id-11 div.sk-estimator {font-family: monospace;background-color: #f0f8ff;border: 1px dotted black;border-radius: 0.25em;box-sizing: border-box;margin-bottom: 0.5em;}#sk-container-id-11 div.sk-estimator:hover {background-color: #d4ebff;}#sk-container-id-11 div.sk-parallel-item::after {content: \"\";width: 100%;border-bottom: 1px solid gray;flex-grow: 1;}#sk-container-id-11 div.sk-label:hover label.sk-toggleable__label {background-color: #d4ebff;}#sk-container-id-11 div.sk-serial::before {content: \"\";position: absolute;border-left: 1px solid gray;box-sizing: border-box;top: 0;bottom: 0;left: 50%;z-index: 0;}#sk-container-id-11 div.sk-serial {display: flex;flex-direction: column;align-items: center;background-color: white;padding-right: 0.2em;padding-left: 0.2em;position: relative;}#sk-container-id-11 div.sk-item {position: relative;z-index: 1;}#sk-container-id-11 div.sk-parallel {display: flex;align-items: stretch;justify-content: center;background-color: white;position: relative;}#sk-container-id-11 div.sk-item::before, #sk-container-id-11 div.sk-parallel-item::before {content: \"\";position: absolute;border-left: 1px solid gray;box-sizing: border-box;top: 0;bottom: 0;left: 50%;z-index: -1;}#sk-container-id-11 div.sk-parallel-item {display: flex;flex-direction: column;z-index: 1;position: relative;background-color: white;}#sk-container-id-11 div.sk-parallel-item:first-child::after {align-self: flex-end;width: 50%;}#sk-container-id-11 div.sk-parallel-item:last-child::after {align-self: flex-start;width: 50%;}#sk-container-id-11 div.sk-parallel-item:only-child::after {width: 0;}#sk-container-id-11 div.sk-dashed-wrapped {border: 1px dashed gray;margin: 0 0.4em 0.5em 0.4em;box-sizing: border-box;padding-bottom: 0.4em;background-color: white;}#sk-container-id-11 div.sk-label label {font-family: monospace;font-weight: bold;display: inline-block;line-height: 1.2em;}#sk-container-id-11 div.sk-label-container {text-align: center;}#sk-container-id-11 div.sk-container {/* jupyter's `normalize.less` sets `[hidden] { display: none; }` but bootstrap.min.css set `[hidden] { display: none !important; }` so we also need the `!important` here to be able to override the default hidden behavior on the sphinx rendered scikit-learn.org. See: https://github.com/scikit-learn/scikit-learn/issues/21755 */display: inline-block !important;position: relative;}#sk-container-id-11 div.sk-text-repr-fallback {display: none;}</style><div id=\"sk-container-id-11\" class=\"sk-top-container\"><div class=\"sk-text-repr-fallback\"><pre>LinearRegression()</pre><b>In a Jupyter environment, please rerun this cell to show the HTML representation or trust the notebook. <br />On GitHub, the HTML representation is unable to render, please try loading this page with nbviewer.org.</b></div><div class=\"sk-container\" hidden><div class=\"sk-item\"><div class=\"sk-estimator sk-toggleable\"><input class=\"sk-toggleable__control sk-hidden--visually\" id=\"sk-estimator-id-11\" type=\"checkbox\" checked><label for=\"sk-estimator-id-11\" class=\"sk-toggleable__label sk-toggleable__label-arrow\">LinearRegression</label><div class=\"sk-toggleable__content\"><pre>LinearRegression()</pre></div></div></div></div></div>"
      ],
      "text/plain": [
       "LinearRegression()"
      ]
     },
     "execution_count": 102,
     "metadata": {},
     "output_type": "execute_result"
    }
   ],
   "source": [
    "reg = LinearRegression()\n",
    "reg.fit(X_train, Y_train)"
   ]
  },
  {
   "cell_type": "code",
   "execution_count": 103,
   "id": "2ec8e76e-f92b-433e-b3cf-568ddbec5c65",
   "metadata": {},
   "outputs": [
    {
     "data": {
      "text/plain": [
       "0.22270076683685092"
      ]
     },
     "execution_count": 103,
     "metadata": {},
     "output_type": "execute_result"
    }
   ],
   "source": [
    "#calcul du R²\n",
    "reg.score(X_test, Y_test)"
   ]
  },
  {
   "cell_type": "code",
   "execution_count": 72,
   "id": "963843ac-d2cf-4ec1-94ff-496d69b104b8",
   "metadata": {},
   "outputs": [
    {
     "data": {
      "text/plain": [
       "<Axes: title={'center': 'Coefficients de la première régression linéaire'}>"
      ]
     },
     "execution_count": 72,
     "metadata": {},
     "output_type": "execute_result"
    },
    {
     "data": {
      "image/png": "[encoded data removed]",
      "text/plain": [
       "<Figure size 640x480 with 1 Axes>"
      ]
     },
     "metadata": {},
     "output_type": "display_data"
    }
   ],
   "source": [
    "coeffs = pd.DataFrame(index=dfmodeldummies.drop('Prix (€)', axis=1).columns)\n",
    "coeffs['Coefficients']=reg.coef_\n",
    "coeffs.sort_values('Coefficients').sort_values('Coefficients').plot(kind='bar',\n",
    "                                         colormap='RdBu',\n",
    "                                        fontsize=10,\n",
    "                                        title='Coefficients de la première régression linéaire',\n",
    "                                        legend=False)"
   ]
  },
  {
   "cell_type": "code",
   "execution_count": 89,
   "id": "0a9a75ff-d840-48ad-a727-45885be60fc4",
   "metadata": {},
   "outputs": [],
   "source": [
    "#Pas de stratification par les communes possibles car trop peu de sorties de prix\n",
    "X_train2, X_test2, Y_train2, Y_test2 = train_test_split(dfmodeldummies[['Vues', '%popvot', 'Niveau de vie commune',\n",
    "                                                                    'Neuf avec étiquette',\n",
    "                                                                    'Neuf sans étiquette',\n",
    "                                                                    'Satisfaisant',\n",
    "                                                                    'Très bon état'\n",
    "                                                                   ]],\n",
    "                                                    dfmodeldummies['Prix (€)'],\n",
    "                                                    train_size=0.8,\n",
    "                                                   )"
   ]
  },
  {
   "cell_type": "code",
   "execution_count": 90,
   "id": "fcc2ba75-08dc-4e1c-a2a1-89b2ae755593",
   "metadata": {},
   "outputs": [],
   "source": [
    "X_train2 = scaler.fit_transform(X_train2)\n",
    "X_test2 = scaler.transform(X_test2)\n",
    "\n",
    "normalizer = preprocessing.Normalizer()\n",
    "X_train2 = normalizer.fit_transform(X_train2)\n",
    "X_test2 = normalizer.transform(X_test2)"
   ]
  },
  {
   "cell_type": "code",
   "execution_count": 91,
   "id": "bd878702-9cff-4bd7-9c7e-e27e390b87c6",
   "metadata": {},
   "outputs": [
    {
     "data": {
      "text/html": [
       "<style>#sk-container-id-9 {color: black;}#sk-container-id-9 pre{padding: 0;}#sk-container-id-9 div.sk-toggleable {background-color: white;}#sk-container-id-9 label.sk-toggleable__label {cursor: pointer;display: block;width: 100%;margin-bottom: 0;padding: 0.3em;box-sizing: border-box;text-align: center;}#sk-container-id-9 label.sk-toggleable__label-arrow:before {content: \"▸\";float: left;margin-right: 0.25em;color: #696969;}#sk-container-id-9 label.sk-toggleable__label-arrow:hover:before {color: black;}#sk-container-id-9 div.sk-estimator:hover label.sk-toggleable__label-arrow:before {color: black;}#sk-container-id-9 div.sk-toggleable__content {max-height: 0;max-width: 0;overflow: hidden;text-align: left;background-color: #f0f8ff;}#sk-container-id-9 div.sk-toggleable__content pre {margin: 0.2em;color: black;border-radius: 0.25em;background-color: #f0f8ff;}#sk-container-id-9 input.sk-toggleable__control:checked~div.sk-toggleable__content {max-height: 200px;max-width: 100%;overflow: auto;}#sk-container-id-9 input.sk-toggleable__control:checked~label.sk-toggleable__label-arrow:before {content: \"▾\";}#sk-container-id-9 div.sk-estimator input.sk-toggleable__control:checked~label.sk-toggleable__label {background-color: #d4ebff;}#sk-container-id-9 div.sk-label input.sk-toggleable__control:checked~label.sk-toggleable__label {background-color: #d4ebff;}#sk-container-id-9 input.sk-hidden--visually {border: 0;clip: rect(1px 1px 1px 1px);clip: rect(1px, 1px, 1px, 1px);height: 1px;margin: -1px;overflow: hidden;padding: 0;position: absolute;width: 1px;}#sk-container-id-9 div.sk-estimator {font-family: monospace;background-color: #f0f8ff;border: 1px dotted black;border-radius: 0.25em;box-sizing: border-box;margin-bottom: 0.5em;}#sk-container-id-9 div.sk-estimator:hover {background-color: #d4ebff;}#sk-container-id-9 div.sk-parallel-item::after {content: \"\";width: 100%;border-bottom: 1px solid gray;flex-grow: 1;}#sk-container-id-9 div.sk-label:hover label.sk-toggleable__label {background-color: #d4ebff;}#sk-container-id-9 div.sk-serial::before {content: \"\";position: absolute;border-left: 1px solid gray;box-sizing: border-box;top: 0;bottom: 0;left: 50%;z-index: 0;}#sk-container-id-9 div.sk-serial {display: flex;flex-direction: column;align-items: center;background-color: white;padding-right: 0.2em;padding-left: 0.2em;position: relative;}#sk-container-id-9 div.sk-item {position: relative;z-index: 1;}#sk-container-id-9 div.sk-parallel {display: flex;align-items: stretch;justify-content: center;background-color: white;position: relative;}#sk-container-id-9 div.sk-item::before, #sk-container-id-9 div.sk-parallel-item::before {content: \"\";position: absolute;border-left: 1px solid gray;box-sizing: border-box;top: 0;bottom: 0;left: 50%;z-index: -1;}#sk-container-id-9 div.sk-parallel-item {display: flex;flex-direction: column;z-index: 1;position: relative;background-color: white;}#sk-container-id-9 div.sk-parallel-item:first-child::after {align-self: flex-end;width: 50%;}#sk-container-id-9 div.sk-parallel-item:last-child::after {align-self: flex-start;width: 50%;}#sk-container-id-9 div.sk-parallel-item:only-child::after {width: 0;}#sk-container-id-9 div.sk-dashed-wrapped {border: 1px dashed gray;margin: 0 0.4em 0.5em 0.4em;box-sizing: border-box;padding-bottom: 0.4em;background-color: white;}#sk-container-id-9 div.sk-label label {font-family: monospace;font-weight: bold;display: inline-block;line-height: 1.2em;}#sk-container-id-9 div.sk-label-container {text-align: center;}#sk-container-id-9 div.sk-container {/* jupyter's `normalize.less` sets `[hidden] { display: none; }` but bootstrap.min.css set `[hidden] { display: none !important; }` so we also need the `!important` here to be able to override the default hidden behavior on the sphinx rendered scikit-learn.org. See: https://github.com/scikit-learn/scikit-learn/issues/21755 */display: inline-block !important;position: relative;}#sk-container-id-9 div.sk-text-repr-fallback {display: none;}</style><div id=\"sk-container-id-9\" class=\"sk-top-container\"><div class=\"sk-text-repr-fallback\"><pre>LinearRegression()</pre><b>In a Jupyter environment, please rerun this cell to show the HTML representation or trust the notebook. <br />On GitHub, the HTML representation is unable to render, please try loading this page with nbviewer.org.</b></div><div class=\"sk-container\" hidden><div class=\"sk-item\"><div class=\"sk-estimator sk-toggleable\"><input class=\"sk-toggleable__control sk-hidden--visually\" id=\"sk-estimator-id-9\" type=\"checkbox\" checked><label for=\"sk-estimator-id-9\" class=\"sk-toggleable__label sk-toggleable__label-arrow\">LinearRegression</label><div class=\"sk-toggleable__content\"><pre>LinearRegression()</pre></div></div></div></div></div>"
      ],
      "text/plain": [
       "LinearRegression()"
      ]
     },
     "execution_count": 91,
     "metadata": {},
     "output_type": "execute_result"
    }
   ],
   "source": [
    "reg2 = LinearRegression()\n",
    "reg2.fit(X_train2, Y_train2)"
   ]
  },
  {
   "cell_type": "code",
   "execution_count": 92,
   "id": "663cf9f2-ac16-409f-87f7-e92e023ba536",
   "metadata": {},
   "outputs": [
    {
     "data": {
      "text/plain": [
       "0.1378307136246576"
      ]
     },
     "execution_count": 92,
     "metadata": {},
     "output_type": "execute_result"
    }
   ],
   "source": [
    "reg2.score(X_test2, Y_test2)"
   ]
  },
  {
   "cell_type": "code",
   "execution_count": 93,
   "id": "83d2bc68-f3bc-484c-a1f0-c3f138126022",
   "metadata": {},
   "outputs": [],
   "source": [
    "coeffs2 = pd.DataFrame(index=dfmodeldummies.drop(['Prix (€)', 'L', 'M', '5XL',\n",
    "                                                                    'W23 | FR 32',\n",
    "                                                                    'W24 | FR 34',\n",
    "                                                                    'W25 | FR 34',\n",
    "                                                                    'W26 | FR 36',\n",
    "                                                                    'W27 | FR 36',\n",
    "                                                                    'W28 | FR 38',\n",
    "                                                                    'W29 | FR 38',\n",
    "                                                                    'W30 | FR 40',\n",
    "                                                                    'W31 | FR 40',\n",
    "                                                                    'W32 | FR 42',\n",
    "                                                                    'W33 | FR 42',\n",
    "                                                                    'W34 | FR 44',\n",
    "                                                                    'W36 | FR 46',\n",
    "                                                                    'W38 | FR 48',\n",
    "                                                                    'W40 | FR 50',\n",
    "                                                                    'W48 | FR 58',\n",
    "                                                                    'XL',\n",
    "                                                                    'XXS / 32 / 4'], axis=1).columns)"
   ]
  },
  {
   "cell_type": "code",
   "execution_count": 94,
   "id": "3bf7ad46-1ae6-425f-b5e8-0dee7417b839",
   "metadata": {},
   "outputs": [
    {
     "data": {
      "text/html": [
       "<div>\n",
       "<style scoped>\n",
       "    .dataframe tbody tr th:only-of-type {\n",
       "        vertical-align: middle;\n",
       "    }\n",
       "\n",
       "    .dataframe tbody tr th {\n",
       "        vertical-align: top;\n",
       "    }\n",
       "\n",
       "    .dataframe thead th {\n",
       "        text-align: right;\n",
       "    }\n",
       "</style>\n",
       "<table border=\"1\" class=\"dataframe\">\n",
       "  <thead>\n",
       "    <tr style=\"text-align: right;\">\n",
       "      <th></th>\n",
       "      <th>Satisfaisant</th>\n",
       "      <th>Niveau de vie commune</th>\n",
       "      <th>%popvot</th>\n",
       "      <th>Très bon état</th>\n",
       "      <th>Neuf sans étiquette</th>\n",
       "      <th>Vues</th>\n",
       "      <th>Neuf avec étiquette</th>\n",
       "    </tr>\n",
       "  </thead>\n",
       "  <tbody>\n",
       "    <tr>\n",
       "      <th>Coefficients</th>\n",
       "      <td>-1.081969</td>\n",
       "      <td>-0.79049</td>\n",
       "      <td>-0.256826</td>\n",
       "      <td>-0.073742</td>\n",
       "      <td>-0.001358</td>\n",
       "      <td>0.858791</td>\n",
       "      <td>1.538633</td>\n",
       "    </tr>\n",
       "  </tbody>\n",
       "</table>\n",
       "</div>"
      ],
      "text/plain": [
       "              Satisfaisant  Niveau de vie commune   %popvot  Très bon état  \\\n",
       "Coefficients     -1.081969               -0.79049 -0.256826      -0.073742   \n",
       "\n",
       "              Neuf sans étiquette      Vues  Neuf avec étiquette  \n",
       "Coefficients            -0.001358  0.858791             1.538633  "
      ]
     },
     "execution_count": 94,
     "metadata": {},
     "output_type": "execute_result"
    }
   ],
   "source": [
    "coeffs2['Coefficients']=reg2.coef_\n",
    "coeffs2.sort_values('Coefficients').transpose()"
   ]
  },
  {
   "cell_type": "code",
   "execution_count": 95,
   "id": "666480c5-21df-4761-aa7e-76f38d55b8c4",
   "metadata": {},
   "outputs": [
    {
     "data": {
      "text/plain": [
       "<Axes: title={'center': 'Coefficients de la déuxième régression linéaire'}>"
      ]
     },
     "execution_count": 95,
     "metadata": {},
     "output_type": "execute_result"
    },
    {
     "data": {
      "image/png": "[encoded data removed]",
      "text/plain": [
       "<Figure size 640x480 with 1 Axes>"
      ]
     },
     "metadata": {},
     "output_type": "display_data"
    }
   ],
   "source": [
    "coeffs2.sort_values('Coefficients').plot(kind='bar',\n",
    "                                         colormap='RdBu',\n",
    "                                        fontsize=10,\n",
    "                                        title='Coefficients de la déuxième régression linéaire',\n",
    "                                        legend=False)"
   ]
  }
 ],
 "metadata": {
  "kernelspec": {
   "display_name": "Python 3 (ipykernel)",
   "language": "python",
   "name": "python3"
  },
  "language_info": {
   "codemirror_mode": {
    "name": "ipython",
    "version": 3
   },
   "file_extension": ".py",
   "mimetype": "text/x-python",
   "name": "python",
   "nbconvert_exporter": "python",
   "pygments_lexer": "ipython3",
   "version": "3.10.13"
  }
 },
 "nbformat": 4,
 "nbformat_minor": 5
}
