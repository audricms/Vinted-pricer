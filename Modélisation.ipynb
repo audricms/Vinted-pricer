{
 "cells": [
  {
   "cell_type": "code",
   "execution_count": 20,
   "id": "8def47fb-9592-4a49-bebc-8be1f64b15b1",
   "metadata": {},
   "outputs": [],
   "source": [
    "#Importation des modules nécesaaires au notebook\n",
    "import numpy as np\n",
    "from sklearn import preprocessing\n",
    "from sklearn.linear_model import LinearRegression\n",
    "from sklearn.model_selection import train_test_split\n",
    "import sklearn.metrics\n",
    "import matplotlib.pyplot as plt\n",
    "import pandas as pd"
   ]
  },
  {
   "cell_type": "code",
   "execution_count": 104,
   "id": "50e8f7de-348e-42d9-a495-dfdb6a0296c4",
   "metadata": {},
   "outputs": [],
   "source": [
    "#Importation et affichage de la base du DataFrame\n",
    "dfjointe = pd.read_csv('Bases de données/donnéesjointes.csv')\n",
    "dfjointe"
   ]
  },
  {
   "cell_type": "code",
   "execution_count": 62,
   "id": "b482a203-9be0-4575-9d6e-ad3ca03071e5",
   "metadata": {},
   "outputs": [],
   "source": [
    "#Création d'un DataFrame pour la modélisation\n",
    "\n",
    "#Sélection des colonnes d'intérêt\n",
    "dfmodel = pd.DataFrame()\n",
    "dfmodel = dfjointe[['Prix (€)', 'Taille', 'Etat', 'Vues', '%popvot', 'Niveau de vie commune']]\n",
    "\n",
    "#Petit nettoyage\n",
    "dfmodel = dfmodel.dropna()\n",
    "dfmodel['Niveau de vie commune'] = dfmodel['Niveau de vie commune'].apply(lambda x: x.replace(' ',''))\n",
    "dfmodel['Niveau de vie commune'] = pd.to_numeric(dfmodel['Niveau de vie commune'])\n",
    "dfmodel['Vues'] = pd.to_numeric(dfmodel['Vues'])\n",
    "\n",
    "#Transformation des variables catégorielles (jean de base est en taille 'S' et en 'bon état')\n",
    "dummiesEtat = pd.get_dummies(dfmodel['Etat'], drop_first=True, dtype=int)\n",
    "dummiesTaille = pd.get_dummies(dfmodel['Taille'], drop_first=False, dtype=int)\n",
    "dummiesTaille.drop('S', axis=1, inplace=True)\n",
    "\n",
    "#Concaténation des DataFrames de dummies\n",
    "dfmodel.drop(['Taille', 'Etat'], axis=1, inplace=True)\n",
    "dfmodeldummies = pd.concat([dfmodel, dummiesTaille, dummiesEtat], axis=1)"
   ]
  },
  {
   "cell_type": "code",
   "execution_count": 100,
   "id": "b38cbf00-f49d-45cf-a8e0-fd00f82acf70",
   "metadata": {},
   "outputs": [],
   "source": [
    "#Préparation d'une première régression linéaire\n",
    "\n",
    "#Séparation en données d'entraînement et de test\n",
    "X_train, X_test, Y_train, Y_test = train_test_split(dfmodeldummies[['Vues', '%popvot', 'Niveau de vie commune',\n",
    "                                                                    'L', 'M', '5XL',\n",
    "                                                                    'W23 | FR 32',\n",
    "                                                                    'W24 | FR 34',\n",
    "                                                                    'W25 | FR 34',\n",
    "                                                                    'W26 | FR 36',\n",
    "                                                                    'W27 | FR 36',\n",
    "                                                                    'W28 | FR 38',\n",
    "                                                                    'W29 | FR 38',\n",
    "                                                                    'W30 | FR 40',\n",
    "                                                                    'W31 | FR 40',\n",
    "                                                                    'W32 | FR 42',\n",
    "                                                                    'W33 | FR 42',\n",
    "                                                                    'W34 | FR 44',\n",
    "                                                                    'W36 | FR 46',\n",
    "                                                                    'W38 | FR 48',\n",
    "                                                                    'W40 | FR 50',\n",
    "                                                                    'W48 | FR 58',\n",
    "                                                                    'XL',\n",
    "                                                                    'XXS / 32 / 4',\n",
    "                                                                    'Neuf avec étiquette',\n",
    "                                                                    'Neuf sans étiquette',\n",
    "                                                                    'Satisfaisant',\n",
    "                                                                    'Très bon état'\n",
    "                                                                   ]],\n",
    "                                                    dfmodeldummies['Prix (€)'],\n",
    "                                                    train_size=0.7,\n",
    "                                                   )"
   ]
  },
  {
   "cell_type": "code",
   "execution_count": 101,
   "id": "dda6ee27-8c07-4846-bb48-a9d787d7f2c5",
   "metadata": {},
   "outputs": [],
   "source": [
    "#Standardisation et normalisation en norme l2 des données d'entraînement et de test\n",
    "scaler = preprocessing.StandardScaler()\n",
    "X_train = scaler.fit_transform(X_train)\n",
    "X_test = scaler.transform(X_test)\n",
    "\n",
    "normalizer = preprocessing.Normalizer()\n",
    "X_train = normalizer.fit_transform(X_train)\n",
    "X_test = normalizer.transform(X_test)"
   ]
  },
  {
   "cell_type": "code",
   "execution_count": 102,
   "id": "07fb3726-2484-499a-b8aa-bbf6bef3eeb8",
   "metadata": {},
   "outputs": [
    {
     "data": {
      "text/html": [
       "<style>#sk-container-id-11 {color: black;}#sk-container-id-11 pre{padding: 0;}#sk-container-id-11 div.sk-toggleable {background-color: white;}#sk-container-id-11 label.sk-toggleable__label {cursor: pointer;display: block;width: 100%;margin-bottom: 0;padding: 0.3em;box-sizing: border-box;text-align: center;}#sk-container-id-11 label.sk-toggleable__label-arrow:before {content: \"▸\";float: left;margin-right: 0.25em;color: #696969;}#sk-container-id-11 label.sk-toggleable__label-arrow:hover:before {color: black;}#sk-container-id-11 div.sk-estimator:hover label.sk-toggleable__label-arrow:before {color: black;}#sk-container-id-11 div.sk-toggleable__content {max-height: 0;max-width: 0;overflow: hidden;text-align: left;background-color: #f0f8ff;}#sk-container-id-11 div.sk-toggleable__content pre {margin: 0.2em;color: black;border-radius: 0.25em;background-color: #f0f8ff;}#sk-container-id-11 input.sk-toggleable__control:checked~div.sk-toggleable__content {max-height: 200px;max-width: 100%;overflow: auto;}#sk-container-id-11 input.sk-toggleable__control:checked~label.sk-toggleable__label-arrow:before {content: \"▾\";}#sk-container-id-11 div.sk-estimator input.sk-toggleable__control:checked~label.sk-toggleable__label {background-color: #d4ebff;}#sk-container-id-11 div.sk-label input.sk-toggleable__control:checked~label.sk-toggleable__label {background-color: #d4ebff;}#sk-container-id-11 input.sk-hidden--visually {border: 0;clip: rect(1px 1px 1px 1px);clip: rect(1px, 1px, 1px, 1px);height: 1px;margin: -1px;overflow: hidden;padding: 0;position: absolute;width: 1px;}#sk-container-id-11 div.sk-estimator {font-family: monospace;background-color: #f0f8ff;border: 1px dotted black;border-radius: 0.25em;box-sizing: border-box;margin-bottom: 0.5em;}#sk-container-id-11 div.sk-estimator:hover {background-color: #d4ebff;}#sk-container-id-11 div.sk-parallel-item::after {content: \"\";width: 100%;border-bottom: 1px solid gray;flex-grow: 1;}#sk-container-id-11 div.sk-label:hover label.sk-toggleable__label {background-color: #d4ebff;}#sk-container-id-11 div.sk-serial::before {content: \"\";position: absolute;border-left: 1px solid gray;box-sizing: border-box;top: 0;bottom: 0;left: 50%;z-index: 0;}#sk-container-id-11 div.sk-serial {display: flex;flex-direction: column;align-items: center;background-color: white;padding-right: 0.2em;padding-left: 0.2em;position: relative;}#sk-container-id-11 div.sk-item {position: relative;z-index: 1;}#sk-container-id-11 div.sk-parallel {display: flex;align-items: stretch;justify-content: center;background-color: white;position: relative;}#sk-container-id-11 div.sk-item::before, #sk-container-id-11 div.sk-parallel-item::before {content: \"\";position: absolute;border-left: 1px solid gray;box-sizing: border-box;top: 0;bottom: 0;left: 50%;z-index: -1;}#sk-container-id-11 div.sk-parallel-item {display: flex;flex-direction: column;z-index: 1;position: relative;background-color: white;}#sk-container-id-11 div.sk-parallel-item:first-child::after {align-self: flex-end;width: 50%;}#sk-container-id-11 div.sk-parallel-item:last-child::after {align-self: flex-start;width: 50%;}#sk-container-id-11 div.sk-parallel-item:only-child::after {width: 0;}#sk-container-id-11 div.sk-dashed-wrapped {border: 1px dashed gray;margin: 0 0.4em 0.5em 0.4em;box-sizing: border-box;padding-bottom: 0.4em;background-color: white;}#sk-container-id-11 div.sk-label label {font-family: monospace;font-weight: bold;display: inline-block;line-height: 1.2em;}#sk-container-id-11 div.sk-label-container {text-align: center;}#sk-container-id-11 div.sk-container {/* jupyter's `normalize.less` sets `[hidden] { display: none; }` but bootstrap.min.css set `[hidden] { display: none !important; }` so we also need the `!important` here to be able to override the default hidden behavior on the sphinx rendered scikit-learn.org. See: https://github.com/scikit-learn/scikit-learn/issues/21755 */display: inline-block !important;position: relative;}#sk-container-id-11 div.sk-text-repr-fallback {display: none;}</style><div id=\"sk-container-id-11\" class=\"sk-top-container\"><div class=\"sk-text-repr-fallback\"><pre>LinearRegression()</pre><b>In a Jupyter environment, please rerun this cell to show the HTML representation or trust the notebook. <br />On GitHub, the HTML representation is unable to render, please try loading this page with nbviewer.org.</b></div><div class=\"sk-container\" hidden><div class=\"sk-item\"><div class=\"sk-estimator sk-toggleable\"><input class=\"sk-toggleable__control sk-hidden--visually\" id=\"sk-estimator-id-11\" type=\"checkbox\" checked><label for=\"sk-estimator-id-11\" class=\"sk-toggleable__label sk-toggleable__label-arrow\">LinearRegression</label><div class=\"sk-toggleable__content\"><pre>LinearRegression()</pre></div></div></div></div></div>"
      ],
      "text/plain": [
       "LinearRegression()"
      ]
     },
     "execution_count": 102,
     "metadata": {},
     "output_type": "execute_result"
    }
   ],
   "source": [
    "#Calcul de la première régression linéaire\n",
    "reg = LinearRegression()\n",
    "reg.fit(X_train, Y_train)"
   ]
  },
  {
   "cell_type": "code",
   "execution_count": 103,
   "id": "2ec8e76e-f92b-433e-b3cf-568ddbec5c65",
   "metadata": {},
   "outputs": [
    {
     "data": {
      "text/plain": [
       "0.22270076683685092"
      ]
     },
     "execution_count": 103,
     "metadata": {},
     "output_type": "execute_result"
    }
   ],
   "source": [
    "#calcul de son R²\n",
    "reg.score(X_test, Y_test)"
   ]
  },
  {
   "cell_type": "code",
   "execution_count": 72,
   "id": "963843ac-d2cf-4ec1-94ff-496d69b104b8",
   "metadata": {},
   "outputs": [
    {
     "data": {
      "text/plain": [
       "<Axes: title={'center': 'Coefficients de la première régression linéaire'}>"
      ]
     },
     "execution_count": 72,
     "metadata": {},
     "output_type": "execute_result"
    },
    {
     "data": {
      "image/png": "[encoded data removed]",
      "text/plain": [
       "<Figure size 640x480 with 1 Axes>"
      ]
     },
     "metadata": {},
     "output_type": "display_data"
    }
   ],
   "source": [
    "#Visualisation des coefficients des variables explicatives\n",
    "coeffs = pd.DataFrame(index=dfmodeldummies.drop('Prix (€)', axis=1).columns)\n",
    "coeffs['Coefficients']=reg.coef_\n",
    "coeffs.sort_values('Coefficients').sort_values('Coefficients').plot(kind='bar',\n",
    "                                         colormap='RdBu',\n",
    "                                        fontsize=10,\n",
    "                                        title='Coefficients de la première régression linéaire',\n",
    "                                        legend=False)"
   ]
  },
  {
   "cell_type": "code",
   "execution_count": 89,
   "id": "0a9a75ff-d840-48ad-a727-45885be60fc4",
   "metadata": {},
   "outputs": [],
   "source": [
    "#Préparation d'une deuxième regression linéaire sur moins de variables explicatives\n",
    "\n",
    "#Séparation des données en données d'entraînement et de test\n",
    "X_train2, X_test2, Y_train2, Y_test2 = train_test_split(dfmodeldummies[['Vues', '%popvot', 'Niveau de vie commune',\n",
    "                                                                    'Neuf avec étiquette',\n",
    "                                                                    'Neuf sans étiquette',\n",
    "                                                                    'Satisfaisant',\n",
    "                                                                    'Très bon état'\n",
    "                                                                   ]],\n",
    "                                                    dfmodeldummies['Prix (€)'],\n",
    "                                                    train_size=0.8,\n",
    "                                                   )"
   ]
  },
  {
   "cell_type": "code",
   "execution_count": 90,
   "id": "fcc2ba75-08dc-4e1c-a2a1-89b2ae755593",
   "metadata": {},
   "outputs": [],
   "source": [
    "#Standardisation et normilisation en norme l2 des données d'entraînement et de test\n",
    "X_train2 = scaler.fit_transform(X_train2)\n",
    "X_test2 = scaler.transform(X_test2)\n",
    "\n",
    "X_train2 = normalizer.fit_transform(X_train2)\n",
    "X_test2 = normalizer.transform(X_test2)"
   ]
  },
  {
   "cell_type": "code",
   "execution_count": 91,
   "id": "bd878702-9cff-4bd7-9c7e-e27e390b87c6",
   "metadata": {},
   "outputs": [
    {
     "data": {
      "text/html": [
       "<style>#sk-container-id-9 {color: black;}#sk-container-id-9 pre{padding: 0;}#sk-container-id-9 div.sk-toggleable {background-color: white;}#sk-container-id-9 label.sk-toggleable__label {cursor: pointer;display: block;width: 100%;margin-bottom: 0;padding: 0.3em;box-sizing: border-box;text-align: center;}#sk-container-id-9 label.sk-toggleable__label-arrow:before {content: \"▸\";float: left;margin-right: 0.25em;color: #696969;}#sk-container-id-9 label.sk-toggleable__label-arrow:hover:before {color: black;}#sk-container-id-9 div.sk-estimator:hover label.sk-toggleable__label-arrow:before {color: black;}#sk-container-id-9 div.sk-toggleable__content {max-height: 0;max-width: 0;overflow: hidden;text-align: left;background-color: #f0f8ff;}#sk-container-id-9 div.sk-toggleable__content pre {margin: 0.2em;color: black;border-radius: 0.25em;background-color: #f0f8ff;}#sk-container-id-9 input.sk-toggleable__control:checked~div.sk-toggleable__content {max-height: 200px;max-width: 100%;overflow: auto;}#sk-container-id-9 input.sk-toggleable__control:checked~label.sk-toggleable__label-arrow:before {content: \"▾\";}#sk-container-id-9 div.sk-estimator input.sk-toggleable__control:checked~label.sk-toggleable__label {background-color: #d4ebff;}#sk-container-id-9 div.sk-label input.sk-toggleable__control:checked~label.sk-toggleable__label {background-color: #d4ebff;}#sk-container-id-9 input.sk-hidden--visually {border: 0;clip: rect(1px 1px 1px 1px);clip: rect(1px, 1px, 1px, 1px);height: 1px;margin: -1px;overflow: hidden;padding: 0;position: absolute;width: 1px;}#sk-container-id-9 div.sk-estimator {font-family: monospace;background-color: #f0f8ff;border: 1px dotted black;border-radius: 0.25em;box-sizing: border-box;margin-bottom: 0.5em;}#sk-container-id-9 div.sk-estimator:hover {background-color: #d4ebff;}#sk-container-id-9 div.sk-parallel-item::after {content: \"\";width: 100%;border-bottom: 1px solid gray;flex-grow: 1;}#sk-container-id-9 div.sk-label:hover label.sk-toggleable__label {background-color: #d4ebff;}#sk-container-id-9 div.sk-serial::before {content: \"\";position: absolute;border-left: 1px solid gray;box-sizing: border-box;top: 0;bottom: 0;left: 50%;z-index: 0;}#sk-container-id-9 div.sk-serial {display: flex;flex-direction: column;align-items: center;background-color: white;padding-right: 0.2em;padding-left: 0.2em;position: relative;}#sk-container-id-9 div.sk-item {position: relative;z-index: 1;}#sk-container-id-9 div.sk-parallel {display: flex;align-items: stretch;justify-content: center;background-color: white;position: relative;}#sk-container-id-9 div.sk-item::before, #sk-container-id-9 div.sk-parallel-item::before {content: \"\";position: absolute;border-left: 1px solid gray;box-sizing: border-box;top: 0;bottom: 0;left: 50%;z-index: -1;}#sk-container-id-9 div.sk-parallel-item {display: flex;flex-direction: column;z-index: 1;position: relative;background-color: white;}#sk-container-id-9 div.sk-parallel-item:first-child::after {align-self: flex-end;width: 50%;}#sk-container-id-9 div.sk-parallel-item:last-child::after {align-self: flex-start;width: 50%;}#sk-container-id-9 div.sk-parallel-item:only-child::after {width: 0;}#sk-container-id-9 div.sk-dashed-wrapped {border: 1px dashed gray;margin: 0 0.4em 0.5em 0.4em;box-sizing: border-box;padding-bottom: 0.4em;background-color: white;}#sk-container-id-9 div.sk-label label {font-family: monospace;font-weight: bold;display: inline-block;line-height: 1.2em;}#sk-container-id-9 div.sk-label-container {text-align: center;}#sk-container-id-9 div.sk-container {/* jupyter's `normalize.less` sets `[hidden] { display: none; }` but bootstrap.min.css set `[hidden] { display: none !important; }` so we also need the `!important` here to be able to override the default hidden behavior on the sphinx rendered scikit-learn.org. See: https://github.com/scikit-learn/scikit-learn/issues/21755 */display: inline-block !important;position: relative;}#sk-container-id-9 div.sk-text-repr-fallback {display: none;}</style><div id=\"sk-container-id-9\" class=\"sk-top-container\"><div class=\"sk-text-repr-fallback\"><pre>LinearRegression()</pre><b>In a Jupyter environment, please rerun this cell to show the HTML representation or trust the notebook. <br />On GitHub, the HTML representation is unable to render, please try loading this page with nbviewer.org.</b></div><div class=\"sk-container\" hidden><div class=\"sk-item\"><div class=\"sk-estimator sk-toggleable\"><input class=\"sk-toggleable__control sk-hidden--visually\" id=\"sk-estimator-id-9\" type=\"checkbox\" checked><label for=\"sk-estimator-id-9\" class=\"sk-toggleable__label sk-toggleable__label-arrow\">LinearRegression</label><div class=\"sk-toggleable__content\"><pre>LinearRegression()</pre></div></div></div></div></div>"
      ],
      "text/plain": [
       "LinearRegression()"
      ]
     },
     "execution_count": 91,
     "metadata": {},
     "output_type": "execute_result"
    }
   ],
   "source": [
    "#Calcul de la deuxième régression linéaire\n",
    "reg2 = LinearRegression()\n",
    "reg2.fit(X_train2, Y_train2)"
   ]
  },
  {
   "cell_type": "code",
   "execution_count": 92,
   "id": "663cf9f2-ac16-409f-87f7-e92e023ba536",
   "metadata": {},
   "outputs": [
    {
     "data": {
      "text/plain": [
       "0.1378307136246576"
      ]
     },
     "execution_count": 92,
     "metadata": {},
     "output_type": "execute_result"
    }
   ],
   "source": [
    "#Calcul de son R²\n",
    "reg2.score(X_test2, Y_test2)"
   ]
  },
  {
   "cell_type": "code",
   "execution_count": 93,
   "id": "83d2bc68-f3bc-484c-a1f0-c3f138126022",
   "metadata": {},
   "outputs": [],
   "source": [
    "#Visualisation des coefficients des variables explicatives\n",
    "coeffs2 = pd.DataFrame(index=dfmodeldummies.drop(['Prix (€)', 'L', 'M', '5XL',\n",
    "                                                                    'W23 | FR 32',\n",
    "                                                                    'W24 | FR 34',\n",
    "                                                                    'W25 | FR 34',\n",
    "                                                                    'W26 | FR 36',\n",
    "                                                                    'W27 | FR 36',\n",
    "                                                                    'W28 | FR 38',\n",
    "                                                                    'W29 | FR 38',\n",
    "                                                                    'W30 | FR 40',\n",
    "                                                                    'W31 | FR 40',\n",
    "                                                                    'W32 | FR 42',\n",
    "                                                                    'W33 | FR 42',\n",
    "                                                                    'W34 | FR 44',\n",
    "                                                                    'W36 | FR 46',\n",
    "                                                                    'W38 | FR 48',\n",
    "                                                                    'W40 | FR 50',\n",
    "                                                                    'W48 | FR 58',\n",
    "                                                                    'XL',\n",
    "                                                                    'XXS / 32 / 4'], axis=1).columns)\n",
    "coeffs2['Coefficients']=reg2.coef_\n",
    "coeffs2.sort_values('Coefficients').transpose()\n",
    "coeffs2.sort_values('Coefficients').plot(kind='bar',\n",
    "                                         colormap='RdBu',\n",
    "                                        fontsize=10,\n",
    "                                        title='Coefficients de la déuxième régression linéaire',\n",
    "                                        legend=False)"
   ]
  }
 ],
 "metadata": {
  "kernelspec": {
   "display_name": "Python 3 (ipykernel)",
   "language": "python",
   "name": "python3"
  },
  "language_info": {
   "codemirror_mode": {
    "name": "ipython",
    "version": 3
   },
   "file_extension": ".py",
   "mimetype": "text/x-python",
   "name": "python",
   "nbconvert_exporter": "python",
   "pygments_lexer": "ipython3",
   "version": "3.10.13"
  }
 },
 "nbformat": 4,
 "nbformat_minor": 5
}
