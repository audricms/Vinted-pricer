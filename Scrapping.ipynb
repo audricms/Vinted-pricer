{
 "cells": [
  {
   "cell_type": "code",
   "execution_count": 97,
   "id": "6ac688c7-6fa7-4740-9903-7f16f41a5d15",
   "metadata": {
    "scrolled": true
   },
   "outputs": [
    {
     "name": "stdout",
     "output_type": "stream",
     "text": [
      "--2023-12-07 13:23:30--  https://dl.google.com/linux/direct/google-chrome-stable_current_amd64.deb\n",
      "Resolving dl.google.com (dl.google.com)... 142.250.179.78, 2a00:1450:4007:80e::200e\n",
      "Connecting to dl.google.com (dl.google.com)|142.250.179.78|:443... connected.\n",
      "HTTP request sent, awaiting response... 200 OK\n",
      "Length: 104956912 (100M) [application/x-debian-package]\n",
      "Saving to: ‘/tmp/chrome.deb’\n",
      "\n",
      "/tmp/chrome.deb     100%[===================>] 100.09M  19.7MB/s    in 5.0s    \n",
      "\n",
      "2023-12-07 13:23:36 (20.0 MB/s) - ‘/tmp/chrome.deb’ saved [104956912/104956912]\n",
      "\n",
      "Get:1 https://dl.google.com/linux/chrome/deb stable InRelease [1,825 B]\n",
      "Get:2 http://security.ubuntu.com/ubuntu jammy-security InRelease [110 kB]      \n",
      "Hit:3 http://archive.ubuntu.com/ubuntu jammy InRelease                         \n",
      "Get:4 https://dl.google.com/linux/chrome/deb stable/main amd64 Packages [1,076 B]\n",
      "Get:5 http://archive.ubuntu.com/ubuntu jammy-updates InRelease [119 kB]        \n",
      "Hit:6 http://archive.ubuntu.com/ubuntu jammy-backports InRelease               \n",
      "Get:7 https://apt.postgresql.org/pub/repos/apt jammy-pgdg InRelease [123 kB]\n",
      "Get:8 http://security.ubuntu.com/ubuntu jammy-security/main amd64 Packages [1,282 kB]\n",
      "Get:9 http://archive.ubuntu.com/ubuntu jammy-updates/restricted amd64 Packages [1,538 kB]\n",
      "Get:10 https://apt.postgresql.org/pub/repos/apt jammy-pgdg/main amd64 Packages [487 kB]\n",
      "Get:11 http://archive.ubuntu.com/ubuntu jammy-updates/main amd64 Packages [1,552 kB]\n",
      "Get:12 http://archive.ubuntu.com/ubuntu jammy-updates/universe amd64 Packages [1,304 kB]\n",
      "Get:13 http://security.ubuntu.com/ubuntu jammy-security/restricted amd64 Packages [1,512 kB]\n",
      "Get:14 http://security.ubuntu.com/ubuntu jammy-security/universe amd64 Packages [1,036 kB]\n",
      "Fetched 9,067 kB in 5s (1,804 kB/s)                          \n",
      "Reading package lists... Done\n",
      "W: https://apt.postgresql.org/pub/repos/apt/dists/jammy-pgdg/InRelease: Key is stored in legacy trusted.gpg keyring (/etc/apt/trusted.gpg), see the DEPRECATION section in apt-key(8) for details.\n",
      "Reading package lists... Done\n",
      "Building dependency tree... Done\n",
      "Reading state information... Done\n",
      "Note, selecting 'google-chrome-stable' instead of '/tmp/chrome.deb'\n",
      "The following packages will be upgraded:\n",
      "  google-chrome-stable\n",
      "1 upgraded, 0 newly installed, 0 to remove and 3 not upgraded.\n",
      "Need to get 105 MB of archives.\n",
      "After this operation, 3,688 kB of additional disk space will be used.\n",
      "Get:1 https://dl.google.com/linux/chrome/deb stable/main amd64 google-chrome-stable amd64 120.0.6099.71-1 [105 MB]\n",
      "Fetched 105 MB in 5s (22.0 MB/s)               \n",
      "debconf: delaying package configuration, since apt-utils is not installed\n",
      "(Reading database ... 44316 files and directories currently installed.)\n",
      "Preparing to unpack .../google-chrome-stable_120.0.6099.71-1_amd64.deb ...\n",
      "Unpacking google-chrome-stable (120.0.6099.71-1) over (119.0.6045.199-1) ...\n",
      "Setting up google-chrome-stable (120.0.6099.71-1) ...\n",
      "Processing triggers for man-db (2.10.2-1) ...\n",
      "Requirement already satisfied: chromedriver-autoinstaller in /opt/mamba/lib/python3.10/site-packages (0.6.3)\n",
      "Requirement already satisfied: selenium in /opt/mamba/lib/python3.10/site-packages (4.15.2)\n",
      "Requirement already satisfied: packaging>=23.1 in /opt/mamba/lib/python3.10/site-packages (from chromedriver-autoinstaller) (23.1)\n",
      "Requirement already satisfied: urllib3<3,>=1.26 in /opt/mamba/lib/python3.10/site-packages (from urllib3[socks]<3,>=1.26->selenium) (1.26.18)\n",
      "Requirement already satisfied: trio~=0.17 in /opt/mamba/lib/python3.10/site-packages (from selenium) (0.23.1)\n",
      "Requirement already satisfied: trio-websocket~=0.9 in /opt/mamba/lib/python3.10/site-packages (from selenium) (0.11.1)\n",
      "Requirement already satisfied: certifi>=2021.10.8 in /opt/mamba/lib/python3.10/site-packages (from selenium) (2023.11.17)\n",
      "Requirement already satisfied: attrs>=20.1.0 in /opt/mamba/lib/python3.10/site-packages (from trio~=0.17->selenium) (23.1.0)\n",
      "Requirement already satisfied: sortedcontainers in /opt/mamba/lib/python3.10/site-packages (from trio~=0.17->selenium) (2.4.0)\n",
      "Requirement already satisfied: idna in /opt/mamba/lib/python3.10/site-packages (from trio~=0.17->selenium) (3.4)\n",
      "Requirement already satisfied: outcome in /opt/mamba/lib/python3.10/site-packages (from trio~=0.17->selenium) (1.3.0.post0)\n",
      "Requirement already satisfied: sniffio>=1.3.0 in /opt/mamba/lib/python3.10/site-packages (from trio~=0.17->selenium) (1.3.0)\n",
      "Requirement already satisfied: exceptiongroup>=1.0.0rc9 in /opt/mamba/lib/python3.10/site-packages (from trio~=0.17->selenium) (1.2.0)\n",
      "Requirement already satisfied: wsproto>=0.14 in /opt/mamba/lib/python3.10/site-packages (from trio-websocket~=0.9->selenium) (1.2.0)\n",
      "Requirement already satisfied: PySocks!=1.5.7,<2.0,>=1.5.6 in /opt/mamba/lib/python3.10/site-packages (from urllib3[socks]<3,>=1.26->selenium) (1.7.1)\n",
      "Requirement already satisfied: h11<1,>=0.9.0 in /opt/mamba/lib/python3.10/site-packages (from wsproto>=0.14->trio-websocket~=0.9->selenium) (0.14.0)\n"
     ]
    },
    {
     "data": {
      "text/plain": [
       "'/opt/mamba/lib/python3.10/site-packages/chromedriver_autoinstaller/120/chromedriver'"
      ]
     },
     "execution_count": 97,
     "metadata": {},
     "output_type": "execute_result"
    }
   ],
   "source": [
    "!wget https://dl.google.com/linux/direct/google-chrome-stable_current_amd64.deb -O /tmp/chrome.deb\n",
    "!sudo apt-get update\n",
    "!sudo -E apt-get install -y /tmp/chrome.deb\n",
    "!pip install chromedriver-autoinstaller selenium\n",
    "\n",
    "import chromedriver_autoinstaller\n",
    "chromedriver_autoinstaller.install()"
   ]
  },
  {
   "cell_type": "code",
   "execution_count": 98,
   "id": "4d445927-bef5-4fd1-bdda-6fd7a32af4a7",
   "metadata": {},
   "outputs": [
    {
     "name": "stdout",
     "output_type": "stream",
     "text": [
      "Requirement already satisfied: webdriver_manager in /opt/mamba/lib/python3.10/site-packages (4.0.1)\n",
      "Requirement already satisfied: requests in /opt/mamba/lib/python3.10/site-packages (from webdriver_manager) (2.31.0)\n",
      "Requirement already satisfied: python-dotenv in /opt/mamba/lib/python3.10/site-packages (from webdriver_manager) (1.0.0)\n",
      "Requirement already satisfied: packaging in /opt/mamba/lib/python3.10/site-packages (from webdriver_manager) (23.1)\n",
      "Requirement already satisfied: charset-normalizer<4,>=2 in /opt/mamba/lib/python3.10/site-packages (from requests->webdriver_manager) (3.2.0)\n",
      "Requirement already satisfied: idna<4,>=2.5 in /opt/mamba/lib/python3.10/site-packages (from requests->webdriver_manager) (3.4)\n",
      "Requirement already satisfied: urllib3<3,>=1.21.1 in /opt/mamba/lib/python3.10/site-packages (from requests->webdriver_manager) (1.26.18)\n",
      "Requirement already satisfied: certifi>=2017.4.17 in /opt/mamba/lib/python3.10/site-packages (from requests->webdriver_manager) (2023.11.17)\n"
     ]
    }
   ],
   "source": [
    "!pip install webdriver_manager"
   ]
  },
  {
   "cell_type": "code",
   "execution_count": 99,
   "id": "0f921b5c-7353-4406-a34a-0b806a272464",
   "metadata": {},
   "outputs": [
    {
     "name": "stdout",
     "output_type": "stream",
     "text": [
      "Requirement already satisfied: selenium in /opt/mamba/lib/python3.10/site-packages (4.15.2)\n",
      "Requirement already satisfied: urllib3<3,>=1.26 in /opt/mamba/lib/python3.10/site-packages (from urllib3[socks]<3,>=1.26->selenium) (1.26.18)\n",
      "Requirement already satisfied: trio~=0.17 in /opt/mamba/lib/python3.10/site-packages (from selenium) (0.23.1)\n",
      "Requirement already satisfied: trio-websocket~=0.9 in /opt/mamba/lib/python3.10/site-packages (from selenium) (0.11.1)\n",
      "Requirement already satisfied: certifi>=2021.10.8 in /opt/mamba/lib/python3.10/site-packages (from selenium) (2023.11.17)\n",
      "Requirement already satisfied: attrs>=20.1.0 in /opt/mamba/lib/python3.10/site-packages (from trio~=0.17->selenium) (23.1.0)\n",
      "Requirement already satisfied: sortedcontainers in /opt/mamba/lib/python3.10/site-packages (from trio~=0.17->selenium) (2.4.0)\n",
      "Requirement already satisfied: idna in /opt/mamba/lib/python3.10/site-packages (from trio~=0.17->selenium) (3.4)\n",
      "Requirement already satisfied: outcome in /opt/mamba/lib/python3.10/site-packages (from trio~=0.17->selenium) (1.3.0.post0)\n",
      "Requirement already satisfied: sniffio>=1.3.0 in /opt/mamba/lib/python3.10/site-packages (from trio~=0.17->selenium) (1.3.0)\n",
      "Requirement already satisfied: exceptiongroup>=1.0.0rc9 in /opt/mamba/lib/python3.10/site-packages (from trio~=0.17->selenium) (1.2.0)\n",
      "Requirement already satisfied: wsproto>=0.14 in /opt/mamba/lib/python3.10/site-packages (from trio-websocket~=0.9->selenium) (1.2.0)\n",
      "Requirement already satisfied: PySocks!=1.5.7,<2.0,>=1.5.6 in /opt/mamba/lib/python3.10/site-packages (from urllib3[socks]<3,>=1.26->selenium) (1.7.1)\n",
      "Requirement already satisfied: h11<1,>=0.9.0 in /opt/mamba/lib/python3.10/site-packages (from wsproto>=0.14->trio-websocket~=0.9->selenium) (0.14.0)\n"
     ]
    }
   ],
   "source": [
    "! pip install selenium"
   ]
  },
  {
   "cell_type": "code",
   "execution_count": 183,
   "id": "8c5eab00-a4b0-469b-871f-5a7da136cf10",
   "metadata": {},
   "outputs": [],
   "source": [
    "import pandas"
   ]
  },
  {
   "cell_type": "code",
   "execution_count": 100,
   "id": "c7b4e2e0-cd82-4a8b-9aa0-cd5e2c5c4651",
   "metadata": {},
   "outputs": [],
   "source": [
    "import selenium\n",
    "from webdriver_manager.chrome import ChromeDriverManager\n",
    "\n",
    "path_to_web_driver = ChromeDriverManager().install()"
   ]
  },
  {
   "cell_type": "code",
   "execution_count": 101,
   "id": "3a343372-5f9c-42be-bd6f-6d59a04c1939",
   "metadata": {},
   "outputs": [],
   "source": [
    "import time\n",
    "\n",
    "from selenium import webdriver\n",
    "from selenium.webdriver.common.keys import Keys\n",
    "from selenium.webdriver.common.by import By\n",
    "from selenium.common.exceptions import NoSuchElementException, WebDriverException\n",
    "\n",
    "chrome_options = webdriver.ChromeOptions()\n",
    "chrome_options.add_argument('--headless')\n",
    "chrome_options.add_argument('--no-sandbox')\n",
    "chrome_options.add_argument('--disable-dev-shm-usage')\n",
    "chrome_options.add_argument(\"--user-agent='Mozilla/5.0 (Windows NT 10.0; Win64; x64; rv:120.0) Gecko/20100101 Firefox/120.0'\") "
   ]
  },
  {
   "cell_type": "code",
   "execution_count": 102,
   "id": "a75ef560-d843-427c-a79e-0dd6a428742f",
   "metadata": {},
   "outputs": [],
   "source": [
    "from selenium.webdriver.chrome.service import Service\n",
    "service = Service(executable_path=path_to_web_driver)\n",
    "\n",
    "browser = webdriver.Chrome(service=service,\n",
    "                           options=chrome_options)"
   ]
  },
  {
   "cell_type": "code",
   "execution_count": 278,
   "id": "ca5f1311-ed8c-4969-9c9a-d6b9b5137c2d",
   "metadata": {},
   "outputs": [],
   "source": [
    "browser.get('https://www.vinted.fr/catalog?search_text=tshirt+noir+homme')\n",
    "time.sleep(1)\n",
    "\n",
    "#browser.get_screenshot_as_file('screeniebefore.png')\n",
    "\n",
    "try:  # handling cookies pop-upabs\n",
    "    Cookies = browser.find_element(By.ID, 'onetrust-accept-btn-handler')\n",
    "    Cookies.click()\n",
    "    time.sleep(1)  # let's be respectful !\n",
    "except NoSuchElementException:\n",
    "    pass"
   ]
  },
  {
   "cell_type": "code",
   "execution_count": 279,
   "id": "44b71d5f-3f95-401f-9e82-eb8c24f03c12",
   "metadata": {},
   "outputs": [],
   "source": [
    "n=20\n",
    "firstscrapping = {}\n",
    "\n",
    "for i in range(1,n+1) :\n",
    "    XPATH = '/html/body/main/div/section/div/div[2]/section/div/div[2]/div[15]/div/div['+str(i)+']'\n",
    "    x = browser.find_element(By.XPATH, XPATH)\n",
    "    classx = x.get_attribute('class')\n",
    "    if len(classx) > 15 :\n",
    "        continue\n",
    "    XPATH = '/html/body/main/div/section/div/div[2]/section/div/div[2]/div[15]/div/div['+str(i)+']/div/div/div/div[2]/a'\n",
    "    x = browser.find_element(By.XPATH, XPATH)\n",
    "    firstscrapping[i] = x.get_attribute('href')"
   ]
  },
  {
   "cell_type": "code",
   "execution_count": 288,
   "id": "8b80d977-97ec-4d8a-86c4-38d2d777488b",
   "metadata": {},
   "outputs": [],
   "source": [
    "firstscrapping2={}\n",
    "for i in firstscrapping.keys() :\n",
    "    browser.get(firstscrapping[i])\n",
    "    time.sleep(1)\n",
    "    try:  # handling cookies pop-upabs\n",
    "        Cookies = browser.find_element(By.ID, 'onetrust-accept-btn-handler')\n",
    "        Cookies.click()\n",
    "        time.sleep(1)  # let's be respectful !\n",
    "    except NoSuchElementException:\n",
    "        pass\n",
    "    firstscrapping2[i]={}\n",
    "    XPATH = '/html/body/main/div/section/div/div[2]/main'\n",
    "    infos = browser.find_element(By.XPATH, XPATH)\n",
    "    x = infos.text.find('\\n')\n",
    "    y = infos.text.find('€')\n",
    "    firstscrapping2[i]['prix'] = infos.text[x+1:y+1]\n",
    "    x = infos.text.find('MARQUE')\n",
    "    if x == -1 :\n",
    "        firstscrapping2[i]['marque'] = float('nan')\n",
    "    else :\n",
    "        y = infos.text.find('BRAND')\n",
    "        firstscrapping2[i]['marque'] = infos.text[x+6:y-1]\n",
    "    x = infos.text.find('TAILLE')\n",
    "    if x == -1 :\n",
    "        firstscrapping2[i]['taille'] = float('nan')\n",
    "    else :\n",
    "        y = infos.text.find('SIZE')\n",
    "        firstscrapping2[i]['taille'] = infos.text[x+6:y-1]"
   ]
  },
  {
   "cell_type": "code",
   "execution_count": 291,
   "id": "13428737-e6bc-4c30-bb4c-4cf2076c5b9a",
   "metadata": {},
   "outputs": [
    {
     "data": {
      "text/plain": [
       "dict_values(['1,00 €', 'ADIDAS', 'S'])"
      ]
     },
     "execution_count": 291,
     "metadata": {},
     "output_type": "execute_result"
    }
   ],
   "source": [
    "firstscrapping2[1].values()"
   ]
  },
  {
   "cell_type": "code",
   "execution_count": 293,
   "id": "a9bab274-ce27-410c-8835-d8224cb89716",
   "metadata": {},
   "outputs": [],
   "source": [
    "df = pandas.DataFrame.from_dict(firstscrapping2, orient = 'index', columns = firstscrapping2[1].keys())"
   ]
  },
  {
   "cell_type": "code",
   "execution_count": 299,
   "id": "9f2d3e51-413d-4afd-b8c5-b85166f39902",
   "metadata": {},
   "outputs": [],
   "source": [
    "df = df.transpose(copy=True)"
   ]
  },
  {
   "cell_type": "code",
   "execution_count": 300,
   "id": "d26a24a9-3b46-469d-8b68-bd5decbef996",
   "metadata": {},
   "outputs": [
    {
     "data": {
      "text/html": [
       "<div>\n",
       "<style scoped>\n",
       "    .dataframe tbody tr th:only-of-type {\n",
       "        vertical-align: middle;\n",
       "    }\n",
       "\n",
       "    .dataframe tbody tr th {\n",
       "        vertical-align: top;\n",
       "    }\n",
       "\n",
       "    .dataframe thead th {\n",
       "        text-align: right;\n",
       "    }\n",
       "</style>\n",
       "<table border=\"1\" class=\"dataframe\">\n",
       "  <thead>\n",
       "    <tr style=\"text-align: right;\">\n",
       "      <th></th>\n",
       "      <th>1</th>\n",
       "      <th>2</th>\n",
       "      <th>3</th>\n",
       "      <th>4</th>\n",
       "      <th>5</th>\n",
       "      <th>6</th>\n",
       "      <th>8</th>\n",
       "      <th>9</th>\n",
       "      <th>10</th>\n",
       "      <th>11</th>\n",
       "      <th>12</th>\n",
       "      <th>13</th>\n",
       "      <th>14</th>\n",
       "      <th>15</th>\n",
       "      <th>16</th>\n",
       "      <th>17</th>\n",
       "      <th>18</th>\n",
       "      <th>19</th>\n",
       "      <th>20</th>\n",
       "    </tr>\n",
       "  </thead>\n",
       "  <tbody>\n",
       "    <tr>\n",
       "      <th>prix</th>\n",
       "      <td>1,00 €</td>\n",
       "      <td>1,00 €</td>\n",
       "      <td>1,00 €</td>\n",
       "      <td>1,00 €</td>\n",
       "      <td>1,00 €</td>\n",
       "      <td>4,00 €</td>\n",
       "      <td>1,00 €</td>\n",
       "      <td>1,00 €</td>\n",
       "      <td>2,00 €</td>\n",
       "      <td>2,50 €</td>\n",
       "      <td>1,00 €</td>\n",
       "      <td>3,00 €</td>\n",
       "      <td>2,00 €</td>\n",
       "      <td>1,00 €</td>\n",
       "      <td>2,00 €</td>\n",
       "      <td>1,00 €</td>\n",
       "      <td>1,00 €</td>\n",
       "      <td>2,00 €</td>\n",
       "      <td>2,50 €</td>\n",
       "    </tr>\n",
       "    <tr>\n",
       "      <th>marque</th>\n",
       "      <td>ADIDAS</td>\n",
       "      <td>KIPSTA</td>\n",
       "      <td>DECATHLON</td>\n",
       "      <td>NaN</td>\n",
       "      <td>NaN</td>\n",
       "      <td>LE COQ SPORTIF</td>\n",
       "      <td>FRUIT OF THE LOOM</td>\n",
       "      <td>LES TEEESH</td>\n",
       "      <td>THE NORTH FACE</td>\n",
       "      <td>PUMA</td>\n",
       "      <td>KIABI</td>\n",
       "      <td>SHEIN</td>\n",
       "      <td>JE NE SAIS PAS</td>\n",
       "      <td>HARRY POTTER</td>\n",
       "      <td>ZARA</td>\n",
       "      <td>FILA</td>\n",
       "      <td>NaN</td>\n",
       "      <td>WED'ZE</td>\n",
       "      <td>REDSKINS</td>\n",
       "    </tr>\n",
       "    <tr>\n",
       "      <th>taille</th>\n",
       "      <td>S</td>\n",
       "      <td>M</td>\n",
       "      <td>L</td>\n",
       "      <td>XXXL</td>\n",
       "      <td>XXL</td>\n",
       "      <td>M</td>\n",
       "      <td>XXL</td>\n",
       "      <td>M</td>\n",
       "      <td>XS</td>\n",
       "      <td>XL</td>\n",
       "      <td>L</td>\n",
       "      <td>XS</td>\n",
       "      <td>XS</td>\n",
       "      <td>M</td>\n",
       "      <td>M</td>\n",
       "      <td>L</td>\n",
       "      <td>S</td>\n",
       "      <td>M</td>\n",
       "      <td>XL</td>\n",
       "    </tr>\n",
       "  </tbody>\n",
       "</table>\n",
       "</div>"
      ],
      "text/plain": [
       "            1       2          3       4       5               6   \\\n",
       "prix    1,00 €  1,00 €     1,00 €  1,00 €  1,00 €          4,00 €   \n",
       "marque  ADIDAS  KIPSTA  DECATHLON     NaN     NaN  LE COQ SPORTIF   \n",
       "taille       S       M          L    XXXL     XXL               M   \n",
       "\n",
       "                       8           9               10      11      12      13  \\\n",
       "prix               1,00 €      1,00 €          2,00 €  2,50 €  1,00 €  3,00 €   \n",
       "marque  FRUIT OF THE LOOM  LES TEEESH  THE NORTH FACE    PUMA   KIABI   SHEIN   \n",
       "taille                XXL           M              XS      XL       L      XS   \n",
       "\n",
       "                    14            15      16      17      18      19        20  \n",
       "prix            2,00 €        1,00 €  2,00 €  1,00 €  1,00 €  2,00 €    2,50 €  \n",
       "marque  JE NE SAIS PAS  HARRY POTTER    ZARA    FILA     NaN  WED'ZE  REDSKINS  \n",
       "taille              XS             M       M       L       S       M        XL  "
      ]
     },
     "execution_count": 300,
     "metadata": {},
     "output_type": "execute_result"
    }
   ],
   "source": [
    "df"
   ]
  },
  {
   "cell_type": "code",
   "execution_count": 235,
   "id": "d4b15c7a-85e1-45c9-b95a-537cdde17aa2",
   "metadata": {},
   "outputs": [
    {
     "data": {
      "text/plain": [
       "'1,00 €'"
      ]
     },
     "execution_count": 235,
     "metadata": {},
     "output_type": "execute_result"
    }
   ],
   "source": [
    "x = price.text.find('\\n')\n",
    "y = price.text.find('€')\n",
    "price.text[x+1:y+1]"
   ]
  },
  {
   "cell_type": "code",
   "execution_count": 201,
   "id": "e25e675b-7455-4fb4-89fb-f2ab74d0afc4",
   "metadata": {},
   "outputs": [
    {
     "data": {
      "text/plain": [
       "True"
      ]
     },
     "execution_count": 201,
     "metadata": {},
     "output_type": "execute_result"
    }
   ],
   "source": [
    "browser.get_screenshot_as_file('workin2.png')"
   ]
  },
  {
   "cell_type": "code",
   "execution_count": 287,
   "id": "b3b442f5-1d5e-4af9-ac26-5ed3139b4a59",
   "metadata": {},
   "outputs": [
    {
     "name": "stdout",
     "output_type": "stream",
     "text": [
      "-1\n"
     ]
    },
    {
     "data": {
      "text/plain": [
       "'1'"
      ]
     },
     "execution_count": 287,
     "metadata": {},
     "output_type": "execute_result"
    }
   ],
   "source": [
    "tutu = r'12\\n345'\n",
    "pos = tutu.find('dfsd')\n",
    "print(pos)\n",
    "tutu[pos+1]"
   ]
  },
  {
   "cell_type": "code",
   "execution_count": null,
   "id": "7052bebe-a9ad-4b30-9a6b-a27a5c60a5ad",
   "metadata": {},
   "outputs": [],
   "source": []
  }
 ],
 "metadata": {
  "kernelspec": {
   "display_name": "Python 3 (ipykernel)",
   "language": "python",
   "name": "python3"
  },
  "language_info": {
   "codemirror_mode": {
    "name": "ipython",
    "version": 3
   },
   "file_extension": ".py",
   "mimetype": "text/x-python",
   "name": "python",
   "nbconvert_exporter": "python",
   "pygments_lexer": "ipython3",
   "version": "3.10.13"
  }
 },
 "nbformat": 4,
 "nbformat_minor": 5
}
