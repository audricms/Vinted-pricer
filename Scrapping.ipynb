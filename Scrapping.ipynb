{
 "cells": [
  {
   "cell_type": "code",
   "execution_count": 97,
   "id": "6ac688c7-6fa7-4740-9903-7f16f41a5d15",
   "metadata": {
    "scrolled": true
   },
   "outputs": [
    {
     "name": "stdout",
     "output_type": "stream",
     "text": [
      "--2023-12-07 13:23:30--  https://dl.google.com/linux/direct/google-chrome-stable_current_amd64.deb\n",
      "Resolving dl.google.com (dl.google.com)... 142.250.179.78, 2a00:1450:4007:80e::200e\n",
      "Connecting to dl.google.com (dl.google.com)|142.250.179.78|:443... connected.\n",
      "HTTP request sent, awaiting response... 200 OK\n",
      "Length: 104956912 (100M) [application/x-debian-package]\n",
      "Saving to: ‘/tmp/chrome.deb’\n",
      "\n",
      "/tmp/chrome.deb     100%[===================>] 100.09M  19.7MB/s    in 5.0s    \n",
      "\n",
      "2023-12-07 13:23:36 (20.0 MB/s) - ‘/tmp/chrome.deb’ saved [104956912/104956912]\n",
      "\n",
      "Get:1 https://dl.google.com/linux/chrome/deb stable InRelease [1,825 B]\n",
      "Get:2 http://security.ubuntu.com/ubuntu jammy-security InRelease [110 kB]      \n",
      "Hit:3 http://archive.ubuntu.com/ubuntu jammy InRelease                         \n",
      "Get:4 https://dl.google.com/linux/chrome/deb stable/main amd64 Packages [1,076 B]\n",
      "Get:5 http://archive.ubuntu.com/ubuntu jammy-updates InRelease [119 kB]        \n",
      "Hit:6 http://archive.ubuntu.com/ubuntu jammy-backports InRelease               \n",
      "Get:7 https://apt.postgresql.org/pub/repos/apt jammy-pgdg InRelease [123 kB]\n",
      "Get:8 http://security.ubuntu.com/ubuntu jammy-security/main amd64 Packages [1,282 kB]\n",
      "Get:9 http://archive.ubuntu.com/ubuntu jammy-updates/restricted amd64 Packages [1,538 kB]\n",
      "Get:10 https://apt.postgresql.org/pub/repos/apt jammy-pgdg/main amd64 Packages [487 kB]\n",
      "Get:11 http://archive.ubuntu.com/ubuntu jammy-updates/main amd64 Packages [1,552 kB]\n",
      "Get:12 http://archive.ubuntu.com/ubuntu jammy-updates/universe amd64 Packages [1,304 kB]\n",
      "Get:13 http://security.ubuntu.com/ubuntu jammy-security/restricted amd64 Packages [1,512 kB]\n",
      "Get:14 http://security.ubuntu.com/ubuntu jammy-security/universe amd64 Packages [1,036 kB]\n",
      "Fetched 9,067 kB in 5s (1,804 kB/s)                          \n",
      "Reading package lists... Done\n",
      "W: https://apt.postgresql.org/pub/repos/apt/dists/jammy-pgdg/InRelease: Key is stored in legacy trusted.gpg keyring (/etc/apt/trusted.gpg), see the DEPRECATION section in apt-key(8) for details.\n",
      "Reading package lists... Done\n",
      "Building dependency tree... Done\n",
      "Reading state information... Done\n",
      "Note, selecting 'google-chrome-stable' instead of '/tmp/chrome.deb'\n",
      "The following packages will be upgraded:\n",
      "  google-chrome-stable\n",
      "1 upgraded, 0 newly installed, 0 to remove and 3 not upgraded.\n",
      "Need to get 105 MB of archives.\n",
      "After this operation, 3,688 kB of additional disk space will be used.\n",
      "Get:1 https://dl.google.com/linux/chrome/deb stable/main amd64 google-chrome-stable amd64 120.0.6099.71-1 [105 MB]\n",
      "Fetched 105 MB in 5s (22.0 MB/s)               \n",
      "debconf: delaying package configuration, since apt-utils is not installed\n",
      "(Reading database ... 44316 files and directories currently installed.)\n",
      "Preparing to unpack .../google-chrome-stable_120.0.6099.71-1_amd64.deb ...\n",
      "Unpacking google-chrome-stable (120.0.6099.71-1) over (119.0.6045.199-1) ...\n",
      "Setting up google-chrome-stable (120.0.6099.71-1) ...\n",
      "Processing triggers for man-db (2.10.2-1) ...\n",
      "Requirement already satisfied: chromedriver-autoinstaller in /opt/mamba/lib/python3.10/site-packages (0.6.3)\n",
      "Requirement already satisfied: selenium in /opt/mamba/lib/python3.10/site-packages (4.15.2)\n",
      "Requirement already satisfied: packaging>=23.1 in /opt/mamba/lib/python3.10/site-packages (from chromedriver-autoinstaller) (23.1)\n",
      "Requirement already satisfied: urllib3<3,>=1.26 in /opt/mamba/lib/python3.10/site-packages (from urllib3[socks]<3,>=1.26->selenium) (1.26.18)\n",
      "Requirement already satisfied: trio~=0.17 in /opt/mamba/lib/python3.10/site-packages (from selenium) (0.23.1)\n",
      "Requirement already satisfied: trio-websocket~=0.9 in /opt/mamba/lib/python3.10/site-packages (from selenium) (0.11.1)\n",
      "Requirement already satisfied: certifi>=2021.10.8 in /opt/mamba/lib/python3.10/site-packages (from selenium) (2023.11.17)\n",
      "Requirement already satisfied: attrs>=20.1.0 in /opt/mamba/lib/python3.10/site-packages (from trio~=0.17->selenium) (23.1.0)\n",
      "Requirement already satisfied: sortedcontainers in /opt/mamba/lib/python3.10/site-packages (from trio~=0.17->selenium) (2.4.0)\n",
      "Requirement already satisfied: idna in /opt/mamba/lib/python3.10/site-packages (from trio~=0.17->selenium) (3.4)\n",
      "Requirement already satisfied: outcome in /opt/mamba/lib/python3.10/site-packages (from trio~=0.17->selenium) (1.3.0.post0)\n",
      "Requirement already satisfied: sniffio>=1.3.0 in /opt/mamba/lib/python3.10/site-packages (from trio~=0.17->selenium) (1.3.0)\n",
      "Requirement already satisfied: exceptiongroup>=1.0.0rc9 in /opt/mamba/lib/python3.10/site-packages (from trio~=0.17->selenium) (1.2.0)\n",
      "Requirement already satisfied: wsproto>=0.14 in /opt/mamba/lib/python3.10/site-packages (from trio-websocket~=0.9->selenium) (1.2.0)\n",
      "Requirement already satisfied: PySocks!=1.5.7,<2.0,>=1.5.6 in /opt/mamba/lib/python3.10/site-packages (from urllib3[socks]<3,>=1.26->selenium) (1.7.1)\n",
      "Requirement already satisfied: h11<1,>=0.9.0 in /opt/mamba/lib/python3.10/site-packages (from wsproto>=0.14->trio-websocket~=0.9->selenium) (0.14.0)\n"
     ]
    },
    {
     "data": {
      "text/plain": [
       "'/opt/mamba/lib/python3.10/site-packages/chromedriver_autoinstaller/120/chromedriver'"
      ]
     },
     "execution_count": 97,
     "metadata": {},
     "output_type": "execute_result"
    }
   ],
   "source": [
    "!wget https://dl.google.com/linux/direct/google-chrome-stable_current_amd64.deb -O /tmp/chrome.deb\n",
    "!sudo apt-get update\n",
    "!sudo -E apt-get install -y /tmp/chrome.deb\n",
    "!pip install chromedriver-autoinstaller selenium\n",
    "\n",
    "import chromedriver_autoinstaller\n",
    "chromedriver_autoinstaller.install()"
   ]
  },
  {
   "cell_type": "code",
   "execution_count": 98,
   "id": "4d445927-bef5-4fd1-bdda-6fd7a32af4a7",
   "metadata": {},
   "outputs": [
    {
     "name": "stdout",
     "output_type": "stream",
     "text": [
      "Requirement already satisfied: webdriver_manager in /opt/mamba/lib/python3.10/site-packages (4.0.1)\n",
      "Requirement already satisfied: requests in /opt/mamba/lib/python3.10/site-packages (from webdriver_manager) (2.31.0)\n",
      "Requirement already satisfied: python-dotenv in /opt/mamba/lib/python3.10/site-packages (from webdriver_manager) (1.0.0)\n",
      "Requirement already satisfied: packaging in /opt/mamba/lib/python3.10/site-packages (from webdriver_manager) (23.1)\n",
      "Requirement already satisfied: charset-normalizer<4,>=2 in /opt/mamba/lib/python3.10/site-packages (from requests->webdriver_manager) (3.2.0)\n",
      "Requirement already satisfied: idna<4,>=2.5 in /opt/mamba/lib/python3.10/site-packages (from requests->webdriver_manager) (3.4)\n",
      "Requirement already satisfied: urllib3<3,>=1.21.1 in /opt/mamba/lib/python3.10/site-packages (from requests->webdriver_manager) (1.26.18)\n",
      "Requirement already satisfied: certifi>=2017.4.17 in /opt/mamba/lib/python3.10/site-packages (from requests->webdriver_manager) (2023.11.17)\n"
     ]
    }
   ],
   "source": [
    "!pip install webdriver_manager"
   ]
  },
  {
   "cell_type": "code",
   "execution_count": 99,
   "id": "0f921b5c-7353-4406-a34a-0b806a272464",
   "metadata": {},
   "outputs": [
    {
     "name": "stdout",
     "output_type": "stream",
     "text": [
      "Requirement already satisfied: selenium in /opt/mamba/lib/python3.10/site-packages (4.15.2)\n",
      "Requirement already satisfied: urllib3<3,>=1.26 in /opt/mamba/lib/python3.10/site-packages (from urllib3[socks]<3,>=1.26->selenium) (1.26.18)\n",
      "Requirement already satisfied: trio~=0.17 in /opt/mamba/lib/python3.10/site-packages (from selenium) (0.23.1)\n",
      "Requirement already satisfied: trio-websocket~=0.9 in /opt/mamba/lib/python3.10/site-packages (from selenium) (0.11.1)\n",
      "Requirement already satisfied: certifi>=2021.10.8 in /opt/mamba/lib/python3.10/site-packages (from selenium) (2023.11.17)\n",
      "Requirement already satisfied: attrs>=20.1.0 in /opt/mamba/lib/python3.10/site-packages (from trio~=0.17->selenium) (23.1.0)\n",
      "Requirement already satisfied: sortedcontainers in /opt/mamba/lib/python3.10/site-packages (from trio~=0.17->selenium) (2.4.0)\n",
      "Requirement already satisfied: idna in /opt/mamba/lib/python3.10/site-packages (from trio~=0.17->selenium) (3.4)\n",
      "Requirement already satisfied: outcome in /opt/mamba/lib/python3.10/site-packages (from trio~=0.17->selenium) (1.3.0.post0)\n",
      "Requirement already satisfied: sniffio>=1.3.0 in /opt/mamba/lib/python3.10/site-packages (from trio~=0.17->selenium) (1.3.0)\n",
      "Requirement already satisfied: exceptiongroup>=1.0.0rc9 in /opt/mamba/lib/python3.10/site-packages (from trio~=0.17->selenium) (1.2.0)\n",
      "Requirement already satisfied: wsproto>=0.14 in /opt/mamba/lib/python3.10/site-packages (from trio-websocket~=0.9->selenium) (1.2.0)\n",
      "Requirement already satisfied: PySocks!=1.5.7,<2.0,>=1.5.6 in /opt/mamba/lib/python3.10/site-packages (from urllib3[socks]<3,>=1.26->selenium) (1.7.1)\n",
      "Requirement already satisfied: h11<1,>=0.9.0 in /opt/mamba/lib/python3.10/site-packages (from wsproto>=0.14->trio-websocket~=0.9->selenium) (0.14.0)\n"
     ]
    }
   ],
   "source": [
    "! pip install selenium"
   ]
  },
  {
   "cell_type": "code",
   "execution_count": 100,
   "id": "c7b4e2e0-cd82-4a8b-9aa0-cd5e2c5c4651",
   "metadata": {},
   "outputs": [],
   "source": [
    "import selenium\n",
    "from webdriver_manager.chrome import ChromeDriverManager\n",
    "\n",
    "path_to_web_driver = ChromeDriverManager().install()"
   ]
  },
  {
   "cell_type": "code",
   "execution_count": 101,
   "id": "3a343372-5f9c-42be-bd6f-6d59a04c1939",
   "metadata": {},
   "outputs": [],
   "source": [
    "import time\n",
    "\n",
    "from selenium import webdriver\n",
    "from selenium.webdriver.common.keys import Keys\n",
    "from selenium.webdriver.common.by import By\n",
    "from selenium.common.exceptions import NoSuchElementException, WebDriverException\n",
    "\n",
    "chrome_options = webdriver.ChromeOptions()\n",
    "chrome_options.add_argument('--headless')\n",
    "chrome_options.add_argument('--no-sandbox')\n",
    "chrome_options.add_argument('--disable-dev-shm-usage')\n",
    "chrome_options.add_argument(\"--user-agent='Mozilla/5.0 (Windows NT 10.0; Win64; x64; rv:120.0) Gecko/20100101 Firefox/120.0'\") "
   ]
  },
  {
   "cell_type": "code",
   "execution_count": 102,
   "id": "a75ef560-d843-427c-a79e-0dd6a428742f",
   "metadata": {},
   "outputs": [],
   "source": [
    "from selenium.webdriver.chrome.service import Service\n",
    "service = Service(executable_path=path_to_web_driver)\n",
    "\n",
    "browser = webdriver.Chrome(service=service,\n",
    "                           options=chrome_options)"
   ]
  },
  {
   "cell_type": "code",
   "execution_count": 103,
   "id": "ca5f1311-ed8c-4969-9c9a-d6b9b5137c2d",
   "metadata": {},
   "outputs": [],
   "source": [
    "browser.get('https://www.vinted.fr/catalog?search_text=tshirt+noir+homme')\n",
    "time.sleep(3)\n",
    "\n",
    "#browser.get_screenshot_as_file('screeniebefore.png')\n",
    "\n",
    "try:  # handling cookies pop-upabs\n",
    "    Cookies = browser.find_element(By.ID, 'onetrust-accept-btn-handler')\n",
    "    Cookies.click()\n",
    "    time.sleep(1)  # let's be respectful !\n",
    "except NoSuchElementException:\n",
    "    pass"
   ]
  },
  {
   "cell_type": "code",
   "execution_count": 86,
   "id": "aed70a0b-83bd-4a4a-b0c7-48127ce3724b",
   "metadata": {},
   "outputs": [],
   "source": [
    "first_search = browser.find_element(By.XPATH,'/html/body/main/div/section/div/div[2]/section/div/div[2]/div[15]/div/div[1]/div/div/div/div[1]/a')"
   ]
  },
  {
   "cell_type": "code",
   "execution_count": 87,
   "id": "3e791a7b-b53d-49ad-a46b-b153c31cee9a",
   "metadata": {},
   "outputs": [
    {
     "data": {
      "text/plain": [
       "'audeey'"
      ]
     },
     "execution_count": 87,
     "metadata": {},
     "output_type": "execute_result"
    }
   ],
   "source": [
    "first_search.text"
   ]
  },
  {
   "cell_type": "code",
   "execution_count": 90,
   "id": "77167be6-4bae-4f5a-83cd-3dcd86dcb3df",
   "metadata": {},
   "outputs": [],
   "source": [
    "second_search = browser.find_element(By.XPATH,'/html/body/main/div/section/div/div[2]/section/div/div[2]/div[15]/div/div[1]/div/div/div/div[2]/a')"
   ]
  },
  {
   "cell_type": "code",
   "execution_count": 95,
   "id": "8b584068-1aa5-4d03-99f8-08515d8fed28",
   "metadata": {},
   "outputs": [
    {
     "data": {
      "text/plain": [
       "'https://www.vinted.fr/items/3845896418-t-shirt-qui-dechire-alien?referrer=catalog'"
      ]
     },
     "execution_count": 95,
     "metadata": {},
     "output_type": "execute_result"
    }
   ],
   "source": [
    "second_search.get_attribute('href')"
   ]
  },
  {
   "cell_type": "code",
   "execution_count": 179,
   "id": "2f83ae50-29d1-40c2-b3d2-16a185b70d8a",
   "metadata": {},
   "outputs": [],
   "source": [
    "import pandas"
   ]
  },
  {
   "cell_type": "code",
   "execution_count": 182,
   "id": "44b71d5f-3f95-401f-9e82-eb8c24f03c12",
   "metadata": {},
   "outputs": [
    {
     "name": "stdout",
     "output_type": "stream",
     "text": [
      "{1: 'https://www.vinted.fr/items/3850200596-t-shirt-adidas-proposer-des-prix?referrer=catalog', 2: 'https://www.vinted.fr/items/3848170146-t-shirt-taille-xxxl?referrer=catalog', 3: 'https://www.vinted.fr/items/3853094440-tee-shirt?referrer=catalog', 4: 'https://www.vinted.fr/items/3854771705-polo-noir-tommy?referrer=catalog', 5: 'https://www.vinted.fr/items/3852688279-tee-shirt-noir-uni-mc-smog-taille-xs?referrer=catalog', 6: 'https://www.vinted.fr/items/3854281273-t-shirt-manches-longues?referrer=catalog', 8: 'https://www.vinted.fr/items/3849342047-t-shirt-noir-ralph-lauren-contrefacon?referrer=catalog', 9: 'https://www.vinted.fr/items/3848533993-haut-taille-xxl?referrer=catalog', 10: 'https://www.vinted.fr/items/3848624123-t-shirt-noir-zara?referrer=catalog', 11: 'https://www.vinted.fr/items/3854824056-tee-shirt-coton-epais-levis-taille-l-noir?referrer=catalog', 12: 'https://www.vinted.fr/items/3855448144-t-shirt-blanc-poche-noir?referrer=catalog', 13: 'https://www.vinted.fr/items/3853260884-tee-shirt?referrer=catalog', 14: 'https://www.vinted.fr/items/3854448336-tee-shirt-matiere-assez-epaisse?referrer=catalog', 15: 'https://www.vinted.fr/items/3848561832-t-shirt-puma-noir?referrer=catalog', 16: 'https://www.vinted.fr/items/3854787972-t-shirt-jack-jones?referrer=catalog', 17: 'https://www.vinted.fr/items/3852646731-tee-shirt-noir-narcos-t-s-motif-blanc-mc?referrer=catalog', 18: 'https://www.vinted.fr/items/3852284065-tee-shirt?referrer=catalog', 19: 'https://www.vinted.fr/items/3854469445-tee-shirt?referrer=catalog', 20: 'https://www.vinted.fr/items/3848569051-t-shirt-billabong-xl?referrer=catalog', 21: 'https://www.vinted.fr/items/3855476934-tee-shirt-homme-taille-l?referrer=catalog', 22: 'https://www.vinted.fr/items/3849363320-tee-shirt-homme-taille-xl?referrer=catalog', 23: 'https://www.vinted.fr/items/3855159728-lot-2-tee-shirt-neuf?referrer=catalog', 24: 'https://www.vinted.fr/items/3848500839-teeshirt-adidas?referrer=catalog', 25: 'https://www.vinted.fr/items/3852201796-t-shirt-imprime?referrer=catalog', 26: 'https://www.vinted.fr/items/3848373356-t-shirt-popey?referrer=catalog', 27: 'https://www.vinted.fr/items/3853909566-tee-shirt-homme?referrer=catalog', 28: 'https://www.vinted.fr/items/3854494402-pull-homme?referrer=catalog', 29: 'https://www.vinted.fr/items/3855143540-t-shirt-homme?referrer=catalog', 30: 'https://www.vinted.fr/items/3853097912-t-shirt-noir-avec-rose?referrer=catalog', 31: 'https://www.vinted.fr/items/3852353701-tee-shirt?referrer=catalog', 33: 'https://www.vinted.fr/items/3849263631-t-shirt-benson-cherry?referrer=catalog', 34: 'https://www.vinted.fr/items/3854780160-tee-shirt-ralph-lauren?referrer=catalog', 35: 'https://www.vinted.fr/items/3849539219-t-shirt-le-coq-sportif?referrer=catalog', 36: 'https://www.vinted.fr/items/3848872137-t-shirt-fila-noir?referrer=catalog', 37: 'https://www.vinted.fr/items/3854416375-black-jack-jones-t-shirt?referrer=catalog', 38: 'https://www.vinted.fr/items/3855096390-t-shirt-homme?referrer=catalog', 39: 'https://www.vinted.fr/items/3855250940-t-shirt-noit?referrer=catalog', 40: 'https://www.vinted.fr/items/3849286624-t-shirt-homme?referrer=catalog', 41: 'https://www.vinted.fr/items/3849632901-t-shirt-pepe-jeans?referrer=catalog', 42: 'https://www.vinted.fr/items/3849117093-pull-diesel-noir-vieilli?referrer=catalog', 43: 'https://www.vinted.fr/items/3853077760-t-shirt-groot-taille-2xl?referrer=catalog', 44: 'https://www.vinted.fr/items/3848282446-t-shirt-noir-motif-biker?referrer=catalog', 45: 'https://www.vinted.fr/items/3851928282-t-shirt-moto-gp-3xl?referrer=catalog', 46: 'https://www.vinted.fr/items/3854966401-tee-shirt-manche-longue-noir-a-bec-dessin-ds-le-dos?referrer=catalog', 47: 'https://www.vinted.fr/items/3848114619-tee-shirt-quiksilver?referrer=catalog', 48: 'https://www.vinted.fr/items/3854306564-polo-en-coton-le-shark?referrer=catalog', 49: 'https://www.vinted.fr/items/3850284364-tee-short-homme?referrer=catalog', 50: 'https://www.vinted.fr/items/3848521385-tee-shirt-billie-eilish?referrer=catalog', 51: 'https://www.vinted.fr/items/3855433100-t-shirt-raiders-noir?referrer=catalog', 52: 'https://www.vinted.fr/items/3850152468-tee-shirt?referrer=catalog', 53: 'https://www.vinted.fr/items/3852489581-tee-shirt-manches-longues?referrer=catalog', 54: 'https://www.vinted.fr/items/3849687197-t-shirt-homme-dragon-ball-z?referrer=catalog', 55: 'https://www.vinted.fr/items/3850655160-lot-x2-t-shirts-manches-longues?referrer=catalog', 56: 'https://www.vinted.fr/items/3848509104-t-shirt?referrer=catalog', 58: 'https://www.vinted.fr/items/3849663979-tee-shirt-a-manche-longue-one-piece?referrer=catalog', 59: 'https://www.vinted.fr/items/3847102776-t-shirt-motif-noel?referrer=catalog', 60: 'https://www.vinted.fr/items/3848931854-tee-shirt-superdry-noir?referrer=catalog', 61: 'https://www.vinted.fr/items/3855426183-tee-shirt?referrer=catalog', 62: 'https://www.vinted.fr/items/3846958403-tee-shirt-nike-noir?referrer=catalog', 63: 'https://www.vinted.fr/items/3853585610-t-shirt-vans?referrer=catalog', 64: 'https://www.vinted.fr/items/3854171838-t-shirt-carhartt?referrer=catalog', 65: 'https://www.vinted.fr/items/3852686409-t-shirt-noel-xl?referrer=catalog', 66: 'https://www.vinted.fr/items/3849673249-tee-shirt-levis?referrer=catalog', 67: 'https://www.vinted.fr/items/3850370629-tee-shirt?referrer=catalog', 68: 'https://www.vinted.fr/items/3850248415-tee-shirt-manga?referrer=catalog', 69: 'https://www.vinted.fr/items/3848624968-tee-shirt-noir?referrer=catalog', 70: 'https://www.vinted.fr/items/3854440700-tee-shirt-chicago-bulls?referrer=catalog', 71: 'https://www.vinted.fr/items/3853366312-tshirt?referrer=catalog', 72: 'https://www.vinted.fr/items/3851779030-t-shirt-the-north-face-noir?referrer=catalog', 73: 'https://www.vinted.fr/items/3843140149-t-shirt-ea7?referrer=catalog', 74: 'https://www.vinted.fr/items/3854870254-t-short-manches-courtes?referrer=catalog', 75: 'https://www.vinted.fr/items/3850099085-tee-shirt-imprime-delaveine-gris?referrer=catalog', 76: 'https://www.vinted.fr/items/3850374605-tee-shirt-jordan?referrer=catalog', 77: 'https://www.vinted.fr/items/3849716098-polo-avec-des-motifs-xs-bershka?referrer=catalog', 78: 'https://www.vinted.fr/items/3853317397-polo-hilfiger?referrer=catalog', 79: 'https://www.vinted.fr/items/3848820289-tshirt?referrer=catalog', 80: 'https://www.vinted.fr/items/3853955917-t-shirt-noir-ile-de-brehat?referrer=catalog', 81: 'https://www.vinted.fr/items/3854613583-t-shirt?referrer=catalog', 83: 'https://www.vinted.fr/items/3855429614-tee-shirt?referrer=catalog', 84: 'https://www.vinted.fr/items/3853942450-tshirt-wrung?referrer=catalog', 85: 'https://www.vinted.fr/items/3855396007-tee-shirt-pepe-jeans?referrer=catalog', 86: 'https://www.vinted.fr/items/3854473529-tshirt?referrer=catalog', 87: 'https://www.vinted.fr/items/3845915415-tee-shirt?referrer=catalog', 88: 'https://www.vinted.fr/items/3848556607-tee-shirt-reebok?referrer=catalog', 89: 'https://www.vinted.fr/items/3847391400-t-shirt-noir-manches-courtes?referrer=catalog', 90: 'https://www.vinted.fr/items/3854465079-t-shirt?referrer=catalog', 91: 'https://www.vinted.fr/items/3847336920-t-shirt-jack-jones-taille-xl?referrer=catalog', 92: 'https://www.vinted.fr/items/3849274368-teeshirt?referrer=catalog', 93: 'https://www.vinted.fr/items/3855470070-t-shirt-noir-oversized?referrer=catalog', 94: 'https://www.vinted.fr/items/3852933436-polo-ralph-lauren?referrer=catalog', 95: 'https://www.vinted.fr/items/3854888577-t-short-tony-parker?referrer=catalog', 96: 'https://www.vinted.fr/items/3850815553-lot-3-t-shirt-xxl-homme?referrer=catalog', 97: 'https://www.vinted.fr/items/3847431738-t-shirt-tommy-hilfiger?referrer=catalog', 98: 'https://www.vinted.fr/items/3855444682-t-shirt-mckenzi?referrer=catalog', 99: 'https://www.vinted.fr/items/3855045741-maglia-pop-smoke?referrer=catalog', 100: 'https://www.vinted.fr/items/3850304885-t-shirt?referrer=catalog'}\n"
     ]
    }
   ],
   "source": [
    "n=100\n",
    "firstscrapping = {}\n",
    "\n",
    "for i in range(1,n+1) :\n",
    "    XPATH = '/html/body/main/div/section/div/div[2]/section/div/div[2]/div[15]/div/div['+str(i)+']'\n",
    "    x = browser.find_element(By.XPATH, XPATH)\n",
    "    classx = x.get_attribute('class')\n",
    "    if len(classx) > 15 :\n",
    "        continue\n",
    "    XPATH = '/html/body/main/div/section/div/div[2]/section/div/div[2]/div[15]/div/div['+str(i)+']/div/div/div/div[2]/a'\n",
    "    x = browser.find_element(By.XPATH, XPATH)\n",
    "    firstscrapping[i] = x.get_attribute('href')\n",
    "print(firstscrapping)"
   ]
  },
  {
   "cell_type": "code",
   "execution_count": 172,
   "id": "8b80d977-97ec-4d8a-86c4-38d2d777488b",
   "metadata": {},
   "outputs": [
    {
     "name": "stdout",
     "output_type": "stream",
     "text": [
      "all good mate\n",
      "all good mate\n",
      "all good mate\n",
      "all good mate\n",
      "all good mate\n",
      "all good mate\n",
      "aha\n",
      "all good mate\n",
      "all good mate\n"
     ]
    }
   ],
   "source": [
    "for i in range(1,10) :\n",
    "    XPATH = '/html/body/main/div/section/div/div[2]/section/div/div[2]/div[15]/div/div['+str(i)+']'\n",
    "    x = browser.find_element(By.XPATH, XPATH)\n",
    "    classx = x.get_attribute('class')\n",
    "    if len(classx) > 15 :\n",
    "        print('aha')\n",
    "    else : print ('all good mate')"
   ]
  },
  {
   "cell_type": "code",
   "execution_count": 170,
   "id": "651ba8ec-1239-48bd-a4d6-e3fa8c45294c",
   "metadata": {},
   "outputs": [
    {
     "data": {
      "text/plain": [
       "15"
      ]
     },
     "execution_count": 170,
     "metadata": {},
     "output_type": "execute_result"
    }
   ],
   "source": [
    "x = browser.find_element(By.XPATH, '/html/body/main/div/section/div/div[2]/section/div/div[2]/div[15]/div/div[8]')\n",
    "classx = x.get_attribute('class')\n",
    "len(classx)"
   ]
  },
  {
   "cell_type": "code",
   "execution_count": 104,
   "id": "6f9214f6-3d7f-4505-b2cb-0c8d3faeae3a",
   "metadata": {},
   "outputs": [],
   "source": [
    "import pandas"
   ]
  },
  {
   "cell_type": "code",
   "execution_count": 106,
   "id": "dff12e67-37fc-473e-9de1-d310bf097549",
   "metadata": {},
   "outputs": [
    {
     "ename": "NoSuchElementException",
     "evalue": "Message: no such element: Unable to locate element: {\"method\":\"xpath\",\"selector\":\"/html/body/main/div/section/div/div[2]/section/div/div[2]/div[15]/div/div[i]/div/div/div/div[2]/a/@href\"}\n  (Session info: chrome-headless-shell=120.0.6099.71); For documentation on this error, please visit: https://www.selenium.dev/documentation/webdriver/troubleshooting/errors#no-such-element-exception\nStacktrace:\n#0 0x55849102ed33 <unknown>\n#1 0x558490cebf87 <unknown>\n#2 0x558490d3bc0e <unknown>\n#3 0x558490d3bd11 <unknown>\n#4 0x558490d87004 <unknown>\n#5 0x558490d6536d <unknown>\n#6 0x558490d84297 <unknown>\n#7 0x558490d650e3 <unknown>\n#8 0x558490d2d044 <unknown>\n#9 0x558490d2e44e <unknown>\n#10 0x558490ff3861 <unknown>\n#11 0x558490ff7785 <unknown>\n#12 0x558490fe1285 <unknown>\n#13 0x558490ff841f <unknown>\n#14 0x558490fc520f <unknown>\n#15 0x55849101c028 <unknown>\n#16 0x55849101c1f7 <unknown>\n#17 0x55849102ded4 <unknown>\n#18 0x7fb66cd34ac3 <unknown>\n",
     "output_type": "error",
     "traceback": [
      "\u001b[0;31m---------------------------------------------------------------------------\u001b[0m",
      "\u001b[0;31mNoSuchElementException\u001b[0m                    Traceback (most recent call last)",
      "Cell \u001b[0;32mIn[106], line 3\u001b[0m\n\u001b[1;32m      1\u001b[0m firstscrapping \u001b[38;5;241m=\u001b[39m {}\n\u001b[1;32m      2\u001b[0m \u001b[38;5;28;01mfor\u001b[39;00m i \u001b[38;5;129;01min\u001b[39;00m \u001b[38;5;28mrange\u001b[39m(\u001b[38;5;241m100\u001b[39m) :\n\u001b[0;32m----> 3\u001b[0m     firsrscrapping[i] \u001b[38;5;241m=\u001b[39m \u001b[43mbrowser\u001b[49m\u001b[38;5;241;43m.\u001b[39;49m\u001b[43mfind_element\u001b[49m\u001b[43m(\u001b[49m\u001b[43mBy\u001b[49m\u001b[38;5;241;43m.\u001b[39;49m\u001b[43mXPATH\u001b[49m\u001b[43m,\u001b[49m\u001b[43m \u001b[49m\u001b[38;5;124;43m'\u001b[39;49m\u001b[38;5;124;43m/html/body/main/div/section/div/div[2]/section/div/div[2]/div[15]/div/div[i]/div/div/div/div[2]/a/@href\u001b[39;49m\u001b[38;5;124;43m'\u001b[39;49m\u001b[43m)\u001b[49m\n",
      "File \u001b[0;32m/opt/mamba/lib/python3.10/site-packages/selenium/webdriver/remote/webdriver.py:741\u001b[0m, in \u001b[0;36mWebDriver.find_element\u001b[0;34m(self, by, value)\u001b[0m\n\u001b[1;32m    738\u001b[0m     by \u001b[38;5;241m=\u001b[39m By\u001b[38;5;241m.\u001b[39mCSS_SELECTOR\n\u001b[1;32m    739\u001b[0m     value \u001b[38;5;241m=\u001b[39m \u001b[38;5;124mf\u001b[39m\u001b[38;5;124m'\u001b[39m\u001b[38;5;124m[name=\u001b[39m\u001b[38;5;124m\"\u001b[39m\u001b[38;5;132;01m{\u001b[39;00mvalue\u001b[38;5;132;01m}\u001b[39;00m\u001b[38;5;124m\"\u001b[39m\u001b[38;5;124m]\u001b[39m\u001b[38;5;124m'\u001b[39m\n\u001b[0;32m--> 741\u001b[0m \u001b[38;5;28;01mreturn\u001b[39;00m \u001b[38;5;28;43mself\u001b[39;49m\u001b[38;5;241;43m.\u001b[39;49m\u001b[43mexecute\u001b[49m\u001b[43m(\u001b[49m\u001b[43mCommand\u001b[49m\u001b[38;5;241;43m.\u001b[39;49m\u001b[43mFIND_ELEMENT\u001b[49m\u001b[43m,\u001b[49m\u001b[43m \u001b[49m\u001b[43m{\u001b[49m\u001b[38;5;124;43m\"\u001b[39;49m\u001b[38;5;124;43musing\u001b[39;49m\u001b[38;5;124;43m\"\u001b[39;49m\u001b[43m:\u001b[49m\u001b[43m \u001b[49m\u001b[43mby\u001b[49m\u001b[43m,\u001b[49m\u001b[43m \u001b[49m\u001b[38;5;124;43m\"\u001b[39;49m\u001b[38;5;124;43mvalue\u001b[39;49m\u001b[38;5;124;43m\"\u001b[39;49m\u001b[43m:\u001b[49m\u001b[43m \u001b[49m\u001b[43mvalue\u001b[49m\u001b[43m}\u001b[49m\u001b[43m)\u001b[49m[\u001b[38;5;124m\"\u001b[39m\u001b[38;5;124mvalue\u001b[39m\u001b[38;5;124m\"\u001b[39m]\n",
      "File \u001b[0;32m/opt/mamba/lib/python3.10/site-packages/selenium/webdriver/remote/webdriver.py:347\u001b[0m, in \u001b[0;36mWebDriver.execute\u001b[0;34m(self, driver_command, params)\u001b[0m\n\u001b[1;32m    345\u001b[0m response \u001b[38;5;241m=\u001b[39m \u001b[38;5;28mself\u001b[39m\u001b[38;5;241m.\u001b[39mcommand_executor\u001b[38;5;241m.\u001b[39mexecute(driver_command, params)\n\u001b[1;32m    346\u001b[0m \u001b[38;5;28;01mif\u001b[39;00m response:\n\u001b[0;32m--> 347\u001b[0m     \u001b[38;5;28;43mself\u001b[39;49m\u001b[38;5;241;43m.\u001b[39;49m\u001b[43merror_handler\u001b[49m\u001b[38;5;241;43m.\u001b[39;49m\u001b[43mcheck_response\u001b[49m\u001b[43m(\u001b[49m\u001b[43mresponse\u001b[49m\u001b[43m)\u001b[49m\n\u001b[1;32m    348\u001b[0m     response[\u001b[38;5;124m\"\u001b[39m\u001b[38;5;124mvalue\u001b[39m\u001b[38;5;124m\"\u001b[39m] \u001b[38;5;241m=\u001b[39m \u001b[38;5;28mself\u001b[39m\u001b[38;5;241m.\u001b[39m_unwrap_value(response\u001b[38;5;241m.\u001b[39mget(\u001b[38;5;124m\"\u001b[39m\u001b[38;5;124mvalue\u001b[39m\u001b[38;5;124m\"\u001b[39m, \u001b[38;5;28;01mNone\u001b[39;00m))\n\u001b[1;32m    349\u001b[0m     \u001b[38;5;28;01mreturn\u001b[39;00m response\n",
      "File \u001b[0;32m/opt/mamba/lib/python3.10/site-packages/selenium/webdriver/remote/errorhandler.py:229\u001b[0m, in \u001b[0;36mErrorHandler.check_response\u001b[0;34m(self, response)\u001b[0m\n\u001b[1;32m    227\u001b[0m         alert_text \u001b[38;5;241m=\u001b[39m value[\u001b[38;5;124m\"\u001b[39m\u001b[38;5;124malert\u001b[39m\u001b[38;5;124m\"\u001b[39m]\u001b[38;5;241m.\u001b[39mget(\u001b[38;5;124m\"\u001b[39m\u001b[38;5;124mtext\u001b[39m\u001b[38;5;124m\"\u001b[39m)\n\u001b[1;32m    228\u001b[0m     \u001b[38;5;28;01mraise\u001b[39;00m exception_class(message, screen, stacktrace, alert_text)  \u001b[38;5;66;03m# type: ignore[call-arg]  # mypy is not smart enough here\u001b[39;00m\n\u001b[0;32m--> 229\u001b[0m \u001b[38;5;28;01mraise\u001b[39;00m exception_class(message, screen, stacktrace)\n",
      "\u001b[0;31mNoSuchElementException\u001b[0m: Message: no such element: Unable to locate element: {\"method\":\"xpath\",\"selector\":\"/html/body/main/div/section/div/div[2]/section/div/div[2]/div[15]/div/div[i]/div/div/div/div[2]/a/@href\"}\n  (Session info: chrome-headless-shell=120.0.6099.71); For documentation on this error, please visit: https://www.selenium.dev/documentation/webdriver/troubleshooting/errors#no-such-element-exception\nStacktrace:\n#0 0x55849102ed33 <unknown>\n#1 0x558490cebf87 <unknown>\n#2 0x558490d3bc0e <unknown>\n#3 0x558490d3bd11 <unknown>\n#4 0x558490d87004 <unknown>\n#5 0x558490d6536d <unknown>\n#6 0x558490d84297 <unknown>\n#7 0x558490d650e3 <unknown>\n#8 0x558490d2d044 <unknown>\n#9 0x558490d2e44e <unknown>\n#10 0x558490ff3861 <unknown>\n#11 0x558490ff7785 <unknown>\n#12 0x558490fe1285 <unknown>\n#13 0x558490ff841f <unknown>\n#14 0x558490fc520f <unknown>\n#15 0x55849101c028 <unknown>\n#16 0x55849101c1f7 <unknown>\n#17 0x55849102ded4 <unknown>\n#18 0x7fb66cd34ac3 <unknown>\n"
     ]
    }
   ],
   "source": [
    "firstscrapping = {}\n",
    "for i in range(100) :\n",
    "    firsrscrapping[i] = browser.find_element(By.XPATH, '/html/body/main/div/section/div/div[2]/section/div/div[2]/div[15]/div/div[i]/div/div/div/div[2]/a/@href')"
   ]
  },
  {
   "cell_type": "code",
   "execution_count": null,
   "id": "f8ec0826-5f72-4357-8f1d-72147b72d985",
   "metadata": {},
   "outputs": [],
   "source": []
  },
  {
   "cell_type": "code",
   "execution_count": null,
   "id": "0ad72b0e-6f7f-4c63-ac64-49c537851a6b",
   "metadata": {},
   "outputs": [],
   "source": []
  },
  {
   "cell_type": "code",
   "execution_count": 85,
   "id": "e25e675b-7455-4fb4-89fb-f2ab74d0afc4",
   "metadata": {},
   "outputs": [
    {
     "data": {
      "text/plain": [
       "True"
      ]
     },
     "execution_count": 85,
     "metadata": {},
     "output_type": "execute_result"
    }
   ],
   "source": [
    "browser.get_screenshot_as_file('workin.png')"
   ]
  },
  {
   "cell_type": "code",
   "execution_count": null,
   "id": "6a096ac4-79f0-4267-8dcb-57662d595f21",
   "metadata": {},
   "outputs": [],
   "source": [
    "/html/body/main/div/section/div/div[2]/section/div/div[2]/div[15]/div/div[1]/div/div/div/div[1]/a"
   ]
  },
  {
   "cell_type": "code",
   "execution_count": null,
   "id": "2964f8b8-f59e-47c7-b138-16b7bd2c864a",
   "metadata": {},
   "outputs": [],
   "source": []
  },
  {
   "cell_type": "code",
   "execution_count": null,
   "id": "c3feb176-ab63-4ed7-9917-1bfc266236ea",
   "metadata": {},
   "outputs": [],
   "source": []
  },
  {
   "cell_type": "code",
   "execution_count": 70,
   "id": "ad9e9c31-732f-43ed-8644-e107daffc623",
   "metadata": {},
   "outputs": [],
   "source": [
    "search = browser.find_element(By.NAME,'search_text')"
   ]
  },
  {
   "cell_type": "code",
   "execution_count": 77,
   "id": "c93a0188-f092-46c8-bd82-c0bd59ad4010",
   "metadata": {},
   "outputs": [
    {
     "data": {
      "text/plain": [
       "True"
      ]
     },
     "execution_count": 77,
     "metadata": {},
     "output_type": "execute_result"
    }
   ],
   "source": [
    "browser.get('https://www.bing.com/')\n",
    "try:  # handling cookies pop-upabs\n",
    "    Cookies = browser.find_element(By.ID, 'bnp_btn_accept')\n",
    "    Cookies.click()\n",
    "    time.sleep(1)  # let's be respectful !\n",
    "except NoSuchElementException:\n",
    "    pass\n",
    "\n",
    "browser.get_screenshot_as_file('bingi.png')"
   ]
  }
 ],
 "metadata": {
  "kernelspec": {
   "display_name": "Python 3 (ipykernel)",
   "language": "python",
   "name": "python3"
  },
  "language_info": {
   "codemirror_mode": {
    "name": "ipython",
    "version": 3
   },
   "file_extension": ".py",
   "mimetype": "text/x-python",
   "name": "python",
   "nbconvert_exporter": "python",
   "pygments_lexer": "ipython3",
   "version": "3.10.13"
  }
 },
 "nbformat": 4,
 "nbformat_minor": 5
}
