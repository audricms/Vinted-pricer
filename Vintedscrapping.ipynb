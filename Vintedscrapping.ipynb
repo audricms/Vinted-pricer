{
 "cells": [
  {
   "cell_type": "code",
   "execution_count": 34,
   "id": "5292ae4b-af4b-4fd2-8925-78f83c1e3da1",
   "metadata": {
    "scrolled": true
   },
   "outputs": [
    {
     "name": "stdout",
     "output_type": "stream",
     "text": [
      "--2023-12-25 17:24:20--  https://dl.google.com/linux/direct/google-chrome-stable_current_amd64.deb\n",
      "Resolving dl.google.com (dl.google.com)... 64.233.167.136, 64.233.167.93, 64.233.167.190, ...\n",
      "Connecting to dl.google.com (dl.google.com)|64.233.167.136|:443... connected.\n",
      "HTTP request sent, awaiting response... 200 OK\n",
      "Length: 104953176 (100M) [application/x-debian-package]\n",
      "Saving to: ‘/tmp/chrome.deb’\n",
      "\n",
      "/tmp/chrome.deb     100%[===================>] 100.09M  37.1MB/s    in 2.7s    \n",
      "\n",
      "2023-12-25 17:24:23 (37.1 MB/s) - ‘/tmp/chrome.deb’ saved [104953176/104953176]\n",
      "\n",
      "Hit:1 https://dl.google.com/linux/chrome/deb stable InRelease\n",
      "Get:2 http://security.ubuntu.com/ubuntu jammy-security InRelease [110 kB]\n",
      "Hit:3 http://archive.ubuntu.com/ubuntu jammy InRelease  \n",
      "Get:4 http://archive.ubuntu.com/ubuntu jammy-updates InRelease [119 kB]\n",
      "Hit:5 http://archive.ubuntu.com/ubuntu jammy-backports InRelease    \n",
      "Hit:6 https://apt.postgresql.org/pub/repos/apt jammy-pgdg InRelease\n",
      "Fetched 229 kB in 2s (98.9 kB/s)\n",
      "Reading package lists... Done\n",
      "W: https://apt.postgresql.org/pub/repos/apt/dists/jammy-pgdg/InRelease: Key is stored in legacy trusted.gpg keyring (/etc/apt/trusted.gpg), see the DEPRECATION section in apt-key(8) for details.\n",
      "Reading package lists... Done\n",
      "Building dependency tree... Done\n",
      "Reading state information... Done\n",
      "Note, selecting 'google-chrome-stable' instead of '/tmp/chrome.deb'\n",
      "google-chrome-stable is already the newest version (120.0.6099.129-1).\n",
      "0 upgraded, 0 newly installed, 0 to remove and 2 not upgraded.\n",
      "Requirement already satisfied: chromedriver-autoinstaller in /opt/mamba/lib/python3.10/site-packages (0.6.3)\n",
      "Requirement already satisfied: selenium in /opt/mamba/lib/python3.10/site-packages (4.16.0)\n",
      "Requirement already satisfied: packaging>=23.1 in /opt/mamba/lib/python3.10/site-packages (from chromedriver-autoinstaller) (23.1)\n",
      "Requirement already satisfied: urllib3<3,>=1.26 in /opt/mamba/lib/python3.10/site-packages (from urllib3[socks]<3,>=1.26->selenium) (1.26.18)\n",
      "Requirement already satisfied: trio~=0.17 in /opt/mamba/lib/python3.10/site-packages (from selenium) (0.23.2)\n",
      "Requirement already satisfied: trio-websocket~=0.9 in /opt/mamba/lib/python3.10/site-packages (from selenium) (0.11.1)\n",
      "Requirement already satisfied: certifi>=2021.10.8 in /opt/mamba/lib/python3.10/site-packages (from selenium) (2023.11.17)\n",
      "Requirement already satisfied: attrs>=20.1.0 in /opt/mamba/lib/python3.10/site-packages (from trio~=0.17->selenium) (23.1.0)\n",
      "Requirement already satisfied: sortedcontainers in /opt/mamba/lib/python3.10/site-packages (from trio~=0.17->selenium) (2.4.0)\n",
      "Requirement already satisfied: idna in /opt/mamba/lib/python3.10/site-packages (from trio~=0.17->selenium) (3.4)\n",
      "Requirement already satisfied: outcome in /opt/mamba/lib/python3.10/site-packages (from trio~=0.17->selenium) (1.3.0.post0)\n",
      "Requirement already satisfied: sniffio>=1.3.0 in /opt/mamba/lib/python3.10/site-packages (from trio~=0.17->selenium) (1.3.0)\n",
      "Requirement already satisfied: exceptiongroup in /opt/mamba/lib/python3.10/site-packages (from trio~=0.17->selenium) (1.2.0)\n",
      "Requirement already satisfied: wsproto>=0.14 in /opt/mamba/lib/python3.10/site-packages (from trio-websocket~=0.9->selenium) (1.2.0)\n",
      "Requirement already satisfied: PySocks!=1.5.7,<2.0,>=1.5.6 in /opt/mamba/lib/python3.10/site-packages (from urllib3[socks]<3,>=1.26->selenium) (1.7.1)\n",
      "Requirement already satisfied: h11<1,>=0.9.0 in /opt/mamba/lib/python3.10/site-packages (from wsproto>=0.14->trio-websocket~=0.9->selenium) (0.14.0)\n"
     ]
    },
    {
     "data": {
      "text/plain": [
       "'/opt/mamba/lib/python3.10/site-packages/chromedriver_autoinstaller/120/chromedriver'"
      ]
     },
     "execution_count": 34,
     "metadata": {},
     "output_type": "execute_result"
    }
   ],
   "source": [
    "!wget https://dl.google.com/linux/direct/google-chrome-stable_current_amd64.deb -O /tmp/chrome.deb\n",
    "!sudo apt-get update\n",
    "!sudo -E apt-get install -y /tmp/chrome.deb\n",
    "!pip install chromedriver-autoinstaller selenium\n",
    "\n",
    "import chromedriver_autoinstaller\n",
    "chromedriver_autoinstaller.install()"
   ]
  },
  {
   "cell_type": "code",
   "execution_count": 35,
   "id": "fe2b8f25-00d7-49ce-9d00-bff651ec1cb0",
   "metadata": {},
   "outputs": [
    {
     "name": "stdout",
     "output_type": "stream",
     "text": [
      "Requirement already satisfied: webdriver_manager in /opt/mamba/lib/python3.10/site-packages (4.0.1)\n",
      "Requirement already satisfied: requests in /opt/mamba/lib/python3.10/site-packages (from webdriver_manager) (2.31.0)\n",
      "Requirement already satisfied: python-dotenv in /opt/mamba/lib/python3.10/site-packages (from webdriver_manager) (1.0.0)\n",
      "Requirement already satisfied: packaging in /opt/mamba/lib/python3.10/site-packages (from webdriver_manager) (23.1)\n",
      "Requirement already satisfied: charset-normalizer<4,>=2 in /opt/mamba/lib/python3.10/site-packages (from requests->webdriver_manager) (3.2.0)\n",
      "Requirement already satisfied: idna<4,>=2.5 in /opt/mamba/lib/python3.10/site-packages (from requests->webdriver_manager) (3.4)\n",
      "Requirement already satisfied: urllib3<3,>=1.21.1 in /opt/mamba/lib/python3.10/site-packages (from requests->webdriver_manager) (1.26.18)\n",
      "Requirement already satisfied: certifi>=2017.4.17 in /opt/mamba/lib/python3.10/site-packages (from requests->webdriver_manager) (2023.11.17)\n"
     ]
    }
   ],
   "source": [
    "!pip install webdriver_manager"
   ]
  },
  {
   "cell_type": "code",
   "execution_count": 36,
   "id": "d2cfc1b4-a594-4f9e-9ded-4d8c15b8faaa",
   "metadata": {},
   "outputs": [
    {
     "name": "stdout",
     "output_type": "stream",
     "text": [
      "Requirement already satisfied: selenium in /opt/mamba/lib/python3.10/site-packages (4.16.0)\n",
      "Requirement already satisfied: urllib3<3,>=1.26 in /opt/mamba/lib/python3.10/site-packages (from urllib3[socks]<3,>=1.26->selenium) (1.26.18)\n",
      "Requirement already satisfied: trio~=0.17 in /opt/mamba/lib/python3.10/site-packages (from selenium) (0.23.2)\n",
      "Requirement already satisfied: trio-websocket~=0.9 in /opt/mamba/lib/python3.10/site-packages (from selenium) (0.11.1)\n",
      "Requirement already satisfied: certifi>=2021.10.8 in /opt/mamba/lib/python3.10/site-packages (from selenium) (2023.11.17)\n",
      "Requirement already satisfied: attrs>=20.1.0 in /opt/mamba/lib/python3.10/site-packages (from trio~=0.17->selenium) (23.1.0)\n",
      "Requirement already satisfied: sortedcontainers in /opt/mamba/lib/python3.10/site-packages (from trio~=0.17->selenium) (2.4.0)\n",
      "Requirement already satisfied: idna in /opt/mamba/lib/python3.10/site-packages (from trio~=0.17->selenium) (3.4)\n",
      "Requirement already satisfied: outcome in /opt/mamba/lib/python3.10/site-packages (from trio~=0.17->selenium) (1.3.0.post0)\n",
      "Requirement already satisfied: sniffio>=1.3.0 in /opt/mamba/lib/python3.10/site-packages (from trio~=0.17->selenium) (1.3.0)\n",
      "Requirement already satisfied: exceptiongroup in /opt/mamba/lib/python3.10/site-packages (from trio~=0.17->selenium) (1.2.0)\n",
      "Requirement already satisfied: wsproto>=0.14 in /opt/mamba/lib/python3.10/site-packages (from trio-websocket~=0.9->selenium) (1.2.0)\n",
      "Requirement already satisfied: PySocks!=1.5.7,<2.0,>=1.5.6 in /opt/mamba/lib/python3.10/site-packages (from urllib3[socks]<3,>=1.26->selenium) (1.7.1)\n",
      "Requirement already satisfied: h11<1,>=0.9.0 in /opt/mamba/lib/python3.10/site-packages (from wsproto>=0.14->trio-websocket~=0.9->selenium) (0.14.0)\n"
     ]
    }
   ],
   "source": [
    "! pip install selenium"
   ]
  },
  {
   "cell_type": "code",
   "execution_count": 37,
   "id": "c816c05a-256a-45d1-8765-918d88806ba4",
   "metadata": {},
   "outputs": [],
   "source": [
    "import time\n",
    "import pandas\n",
    "\n",
    "import selenium\n",
    "from webdriver_manager.chrome import ChromeDriverManager\n",
    "\n",
    "path_to_web_driver = ChromeDriverManager().install()\n",
    "\n",
    "from selenium import webdriver\n",
    "from selenium.webdriver.chrome.service import Service\n",
    "from selenium.webdriver.common.keys import Keys\n",
    "from selenium.webdriver.common.by import By\n",
    "from selenium.common.exceptions import NoSuchElementException, WebDriverException\n",
    "\n",
    "!pip install -q lxml\n",
    "\n",
    "import bs4\n",
    "import lxml\n",
    "import pandas\n",
    "import urllib\n",
    "\n",
    "from urllib import request\n",
    "from urllib.error import HTTPError"
   ]
  },
  {
   "cell_type": "code",
   "execution_count": 57,
   "id": "400bf72f-c730-4b4d-8cfc-4f014832d034",
   "metadata": {},
   "outputs": [],
   "source": [
    "chrome_options = webdriver.ChromeOptions()\n",
    "\n",
    "# Adding argument to disable the AutomationControlled flag \n",
    "chrome_options.add_argument(\"--disable-blink-features=AutomationControlled\") \n",
    " \n",
    "# Exclude the collection of enable-automation switches \n",
    "chrome_options.add_experimental_option(\"excludeSwitches\", [\"enable-automation\"]) \n",
    " \n",
    "# Turn-off userAutomationExtension \n",
    "chrome_options.add_experimental_option(\"useAutomationExtension\", False) \n",
    " \n",
    "chrome_options.add_argument('--headless')\n",
    "chrome_options.add_argument('--no-sandbox')\n",
    "chrome_options.add_argument('--disable-dev-shm-usage')\n",
    "chrome_options.add_argument(\"--user-agent='Mozilla/5.0 (Windows NT 10.0; Win64; x64; rv:120.0) Gecko/20100101 Firefox/120.0'\") "
   ]
  },
  {
   "cell_type": "code",
   "execution_count": 59,
   "id": "f09112c6-7320-4003-974e-e118940e9f01",
   "metadata": {},
   "outputs": [],
   "source": [
    "service = Service(executable_path=path_to_web_driver)\n",
    "\n",
    "browser = webdriver.Chrome(service=service,\n",
    "                           options=chrome_options)\n",
    "\n",
    "# Changing the property of the navigator value for webdriver to undefined \n",
    "browser.execute_script(\"Object.defineProperty(navigator, 'webdriver', {get: () => undefined})\")"
   ]
  },
  {
   "cell_type": "code",
   "execution_count": 147,
   "id": "31dfccae-fb41-43bf-aa26-eef62277fb9c",
   "metadata": {},
   "outputs": [],
   "source": [
    "def tableau(x) :\n",
    "\n",
    "    browser.get(x)\n",
    "    time.sleep(3)\n",
    "    try:  # handling cookies pop-upabs\n",
    "        Cookies = browser.find_element(By.ID, 'onetrust-accept-btn-handler')\n",
    "        Cookies.click()\n",
    "        time.sleep(2)  # let's be respectful !\n",
    "    except NoSuchElementException:\n",
    "        pass\n",
    "    \n",
    "    scrapping = {}\n",
    "    \n",
    "    for i in range(1,100) :\n",
    "        try :\n",
    "            XPATH = '/html/body/main/div/section/div/div[2]/section/div/div[2]/div[15]/div/div['+str(i)+']'\n",
    "            x = browser.find_element(By.XPATH, XPATH)\n",
    "            classx = x.get_attribute('class')\n",
    "            if len(classx) > 15 :\n",
    "                continue\n",
    "        except NoSuchElementException:\n",
    "            continue\n",
    "        try : \n",
    "            XPATH = '/html/body/main/div/section/div/div[2]/section/div/div[2]/div[15]/div/div['+str(i)+']/div/div/div/div[2]/a'\n",
    "            x = browser.find_element(By.XPATH, XPATH)\n",
    "            scrapping[i] = x.get_attribute('href')\n",
    "            scrapping2={}\n",
    "        except NoSuchElementException:\n",
    "            continue\n",
    "\n",
    "    for i in scrapping.keys() :\n",
    "        time.sleep(1)\n",
    "        try:\n",
    "            request_text = request.urlopen(scrapping[i]).read()\n",
    "            page = bs4.BeautifulSoup(request_text, \"lxml\")\n",
    "            scrapping2[i]={}\n",
    "    \n",
    "            prix = page.find('h1')\n",
    "            if prix != None :\n",
    "                scrapping2[i]['Prix (€)'] = prix.text[:-2]\n",
    "            else : \n",
    "                scrapping2[i]['Prix (€)'] = float('nan')\n",
    "        \n",
    "            marque = page.find('a', class_ = 'inverse u-disable-underline-without-hover')\n",
    "            if marque != None :\n",
    "                scrapping2[i]['Marque'] = marque.text\n",
    "            else : \n",
    "                scrapping2[i]['Marque'] = float('nan')\n",
    "        \n",
    "            taille = page.find(size_selector)\n",
    "            if taille != None :\n",
    "                end = taille.text.find('Size information')\n",
    "                scrapping2[i]['Taille'] = taille.text[:end]\n",
    "            else : \n",
    "                scrapping2[i]['Taille'] = float('nan')\n",
    "    \n",
    "            etat = page.find(condition_selector)\n",
    "            if etat != None :\n",
    "                end = etat.text.find('Condition information')\n",
    "                scrapping2[i]['Etat'] = etat.text[:end]\n",
    "            else : \n",
    "                scrapping2[i]['Etat'] = float('nan')\n",
    "        \n",
    "            matiere = page.find(material_selector)\n",
    "            if matiere != None :\n",
    "                scrapping2[i]['Matière'] = matiere.text[:end]\n",
    "            else : \n",
    "                scrapping2[i]['Matière'] = float('nan')\n",
    "        \n",
    "            localisation = page.find(loc_selector)\n",
    "            if localisation != None :\n",
    "                scrapping2[i]['Localisation'] = localisation.text[12:]\n",
    "            else : \n",
    "                scrapping2[i]['Localisation'] = float('nan')\n",
    "        \n",
    "            paiement = page.find(paymeth_selector)\n",
    "            if paiement != None :\n",
    "                scrapping2[i]['Option de paiement'] = paiement.text[19:]\n",
    "            else : \n",
    "                scrapping2[i]['Option de paiement'] = float('nan')\n",
    "        \n",
    "            vues = page.find(nbrview_selector)\n",
    "            if vues != None :\n",
    "                scrapping2[i]['Vues'] = vues.text[14:]\n",
    "            else :\n",
    "                scrapping2[i]['Vues'] = float('nan')\n",
    "    \n",
    "            date_ajout = page.find(added_selector)\n",
    "            if date_ajout != None :\n",
    "                scrapping2[i][\"Date d'ajout\"] = date_ajout.attrs['title']\n",
    "            else : \n",
    "                scrapping2[i][\"Date d'ajout\"] = float('nan')\n",
    "        except HTTPError :\n",
    "            pass\n",
    "            \n",
    "    firstkey = list(scrapping2.keys())[0]\n",
    "    df = pandas.DataFrame.from_dict(scrapping2, orient = 'index', columns = scrapping2[firstkey].keys())\n",
    "    df = df.transpose(copy=True)\n",
    "\n",
    "    return df"
   ]
  },
  {
   "cell_type": "code",
   "execution_count": 41,
   "id": "eee08a57-3ead-4a88-a1a4-04c4a4d5b5ca",
   "metadata": {},
   "outputs": [],
   "source": [
    "def raw_to_url(x) :\n",
    "    wordlist = x.split()\n",
    "    x = wordlist[0]\n",
    "    if len(wordlist)>1 :\n",
    "        for i in wordlist[1:] :\n",
    "            x = x+'+'+str(i)\n",
    "        return x\n",
    "    else :\n",
    "        return x"
   ]
  },
  {
   "cell_type": "code",
   "execution_count": 42,
   "id": "d5e77d34-fb5a-46c4-8b6a-fb540cd4761b",
   "metadata": {},
   "outputs": [],
   "source": [
    "def size_selector(tag):\n",
    "\treturn tag.name == \"div\" and tag.has_attr(\"itemprop\") and 'size' in tag.get(\"itemprop\")\n",
    "def condition_selector(tag):\n",
    "\treturn tag.name == \"div\" and tag.has_attr(\"itemprop\") and 'condition' in tag.get(\"itemprop\")\n",
    "def material_selector(tag):\n",
    "\treturn tag.name == \"div\" and tag.has_attr(\"itemprop\") and 'material' in tag.get(\"itemprop\")\n",
    "def loc_selector(tag):\n",
    "\treturn tag.name == \"div\" and tag.has_attr(\"data-testid\") and 'item-details-location' in tag.get(\"data-testid\")\n",
    "def paymeth_selector(tag):\n",
    "\treturn tag.name == \"div\" and tag.has_attr(\"data-testid\") and 'item-details-payment_methods' in tag.get(\"data-testid\")\n",
    "def nbrview_selector(tag):\n",
    "\treturn tag.name == \"div\" and tag.has_attr(\"data-testid\") and 'item-details-view_count' in tag.get(\"data-testid\")\n",
    "def added_selector(tag):\n",
    "\treturn tag.name == \"span\" and tag.has_attr(\"title\")"
   ]
  },
  {
   "cell_type": "code",
   "execution_count": 148,
   "id": "cb14b67a-bb8d-4a21-bce0-f47a0bf59406",
   "metadata": {},
   "outputs": [],
   "source": [
    "def h_creator(x, plow, phigh, pagenbr) :\n",
    "    x = raw_to_url(x)\n",
    "\n",
    "    return('https://w'+'ww.vinted.fr/catalog?search_text='+x+'&price_from='+str(plow)+'&currency=EUR&price_to='+str(phigh)+'page='+str(pagenbr))"
   ]
  },
  {
   "cell_type": "code",
   "execution_count": 165,
   "id": "4c2ae2a6-4098-471b-8a73-0dc2181cd591",
   "metadata": {},
   "outputs": [],
   "source": [
    "href1 = h_creator('jean homme', 5, 200, 1)\n",
    "href2 = h_creator('jean homme', 5, 200, 2)\n",
    "href3 = h_creator('jean homme', 5, 200, 3)\n",
    "href4 = h_creator('jean homme', 5, 200, 4)\n",
    "href5 = h_creator('jean homme', 5, 200, 5)\n",
    "href6 = h_creator('jean homme', 5, 200, 6)\n",
    "href7 = h_creator('jean homme', 5, 200, 7)\n",
    "href8 = h_creator('jean homme', 5, 200, 8)\n",
    "href9 = h_creator('jean homme', 5, 200, 9)\n",
    "href10 = h_creator('jean homme', 5, 200, 10)"
   ]
  },
  {
   "cell_type": "code",
   "execution_count": 152,
   "id": "8ebe1f7e-d5bd-4d16-8484-73afe13fb13b",
   "metadata": {},
   "outputs": [],
   "source": [
    "dfjean1 = tableau(href1)"
   ]
  },
  {
   "cell_type": "code",
   "execution_count": 155,
   "id": "31757d7e-6f10-4184-a37f-3b4f62d98b96",
   "metadata": {},
   "outputs": [],
   "source": [
    "dfjean2 = tableau(href2)"
   ]
  },
  {
   "cell_type": "code",
   "execution_count": 162,
   "id": "7ce09596-2d91-46df-b294-f5e6ce2caa8d",
   "metadata": {},
   "outputs": [],
   "source": [
    "dfjean3 = tableau(href3)"
   ]
  },
  {
   "cell_type": "code",
   "execution_count": 164,
   "id": "88d5e5fc-8bd9-4b88-b278-26d084780bce",
   "metadata": {},
   "outputs": [],
   "source": [
    "dfjean4 = tableau(href4)"
   ]
  },
  {
   "cell_type": "code",
   "execution_count": 166,
   "id": "e5851566-5136-4189-93e3-45a5e032a12b",
   "metadata": {},
   "outputs": [],
   "source": [
    "dfjean5 = tableau(href5)"
   ]
  },
  {
   "cell_type": "code",
   "execution_count": 167,
   "id": "67065c99-2cc7-4f42-ae67-0854ed3e3940",
   "metadata": {},
   "outputs": [],
   "source": [
    "dfjean6 = tableau(href6)"
   ]
  },
  {
   "cell_type": "code",
   "execution_count": 168,
   "id": "465255a3-26d0-48dc-a14b-2e5681450df2",
   "metadata": {},
   "outputs": [],
   "source": [
    "dfjean7 = tableau(href7)"
   ]
  },
  {
   "cell_type": "code",
   "execution_count": 169,
   "id": "eb35c4f4-a5da-44bc-b707-591a9eb0ff31",
   "metadata": {},
   "outputs": [],
   "source": [
    "dfjean8 = tableau(href8)"
   ]
  },
  {
   "cell_type": "code",
   "execution_count": 170,
   "id": "bb2f4b5c-d072-4666-ade4-8d14cebb124d",
   "metadata": {},
   "outputs": [],
   "source": [
    "dfjean9 = tableau(href9)"
   ]
  },
  {
   "cell_type": "code",
   "execution_count": 171,
   "id": "4d1fbdce-4cad-47ae-bcb2-54b6c24893b5",
   "metadata": {},
   "outputs": [],
   "source": [
    "dfjean10 = tableau(href10)"
   ]
  },
  {
   "cell_type": "code",
   "execution_count": 116,
   "id": "b22561b2-6492-4723-8b1e-91cda8bc06c1",
   "metadata": {},
   "outputs": [],
   "source": [
    "hrefl = hlist_creator('jean homme', 5, 500, 1000)"
   ]
  },
  {
   "cell_type": "code",
   "execution_count": 256,
   "id": "f04539f2-1bf1-49cf-9c1e-598537300a05",
   "metadata": {},
   "outputs": [],
   "source": [
    "dfjean = pandas.concat([dfjean1, dfjean2, dfjean3, dfjean4, dfjean5, dfjean6, dfjean7, dfjean8, dfjean9, dfjean10], axis = 1, ignore_index = True).transpose()"
   ]
  },
  {
   "cell_type": "code",
   "execution_count": 264,
   "id": "d86445e6-081e-4ae6-8736-a2b36853f417",
   "metadata": {},
   "outputs": [
    {
     "data": {
      "text/html": [
       "<div>\n",
       "<style scoped>\n",
       "    .dataframe tbody tr th:only-of-type {\n",
       "        vertical-align: middle;\n",
       "    }\n",
       "\n",
       "    .dataframe tbody tr th {\n",
       "        vertical-align: top;\n",
       "    }\n",
       "\n",
       "    .dataframe thead th {\n",
       "        text-align: right;\n",
       "    }\n",
       "</style>\n",
       "<table border=\"1\" class=\"dataframe\">\n",
       "  <thead>\n",
       "    <tr style=\"text-align: right;\">\n",
       "      <th></th>\n",
       "      <th>Prix (€)</th>\n",
       "      <th>Marque</th>\n",
       "      <th>Taille</th>\n",
       "      <th>Etat</th>\n",
       "      <th>Matière</th>\n",
       "      <th>Localisation</th>\n",
       "      <th>Option de paiement</th>\n",
       "      <th>Vues</th>\n",
       "      <th>Date d'ajout</th>\n",
       "    </tr>\n",
       "  </thead>\n",
       "  <tbody>\n",
       "    <tr>\n",
       "      <th>0</th>\n",
       "      <td>6,00</td>\n",
       "      <td>NaN</td>\n",
       "      <td>W34 | FR 44</td>\n",
       "      <td>Très bon état</td>\n",
       "      <td>NaN</td>\n",
       "      <td>Tourny, France</td>\n",
       "      <td>Carte bancaire</td>\n",
       "      <td>13</td>\n",
       "      <td>12/28/2023, 6:19:17 PM</td>\n",
       "    </tr>\n",
       "    <tr>\n",
       "      <th>1</th>\n",
       "      <td>5,00</td>\n",
       "      <td>je ne sais pas</td>\n",
       "      <td>W30 | FR 40</td>\n",
       "      <td>Neuf sans étiquette</td>\n",
       "      <td>Coton</td>\n",
       "      <td>France</td>\n",
       "      <td>Carte bancaire</td>\n",
       "      <td>0</td>\n",
       "      <td>12/29/2023, 12:52:25 PM</td>\n",
       "    </tr>\n",
       "    <tr>\n",
       "      <th>2</th>\n",
       "      <td>5,00</td>\n",
       "      <td>Zara</td>\n",
       "      <td>W32 | FR 42</td>\n",
       "      <td>Satisfaisant</td>\n",
       "      <td>NaN</td>\n",
       "      <td>Riantec, France</td>\n",
       "      <td>Carte bancaire</td>\n",
       "      <td>2</td>\n",
       "      <td>12/29/2023, 10:43:33 AM</td>\n",
       "    </tr>\n",
       "    <tr>\n",
       "      <th>3</th>\n",
       "      <td>8,00</td>\n",
       "      <td>Bonobo</td>\n",
       "      <td>W34 | FR 44</td>\n",
       "      <td>Très bon état</td>\n",
       "      <td>NaN</td>\n",
       "      <td>France</td>\n",
       "      <td>Carte bancaire</td>\n",
       "      <td>3</td>\n",
       "      <td>12/29/2023, 11:47:15 AM</td>\n",
       "    </tr>\n",
       "    <tr>\n",
       "      <th>4</th>\n",
       "      <td>6,00</td>\n",
       "      <td>Zara</td>\n",
       "      <td>W30 | FR 40</td>\n",
       "      <td>Très bon état</td>\n",
       "      <td>NaN</td>\n",
       "      <td>Feignies, France</td>\n",
       "      <td>Carte bancaire</td>\n",
       "      <td>1</td>\n",
       "      <td>12/29/2023, 11:39:14 AM</td>\n",
       "    </tr>\n",
       "    <tr>\n",
       "      <th>...</th>\n",
       "      <td>...</td>\n",
       "      <td>...</td>\n",
       "      <td>...</td>\n",
       "      <td>...</td>\n",
       "      <td>...</td>\n",
       "      <td>...</td>\n",
       "      <td>...</td>\n",
       "      <td>...</td>\n",
       "      <td>...</td>\n",
       "    </tr>\n",
       "    <tr>\n",
       "      <th>853</th>\n",
       "      <td>5,50</td>\n",
       "      <td>Straight</td>\n",
       "      <td>XXS / 32 / 4</td>\n",
       "      <td>Très bon état</td>\n",
       "      <td>Denim</td>\n",
       "      <td>Chevillon-sur-Huillard, France</td>\n",
       "      <td>Carte bancaire</td>\n",
       "      <td>0</td>\n",
       "      <td>12/29/2023, 12:16:55 PM</td>\n",
       "    </tr>\n",
       "    <tr>\n",
       "      <th>854</th>\n",
       "      <td>5,00</td>\n",
       "      <td>H&amp;M</td>\n",
       "      <td>W23 | FR 32</td>\n",
       "      <td>Très bon état</td>\n",
       "      <td>NaN</td>\n",
       "      <td>Paris, France</td>\n",
       "      <td>Carte bancaire</td>\n",
       "      <td>12</td>\n",
       "      <td>12/27/2023, 12:27:55 PM</td>\n",
       "    </tr>\n",
       "    <tr>\n",
       "      <th>855</th>\n",
       "      <td>5,00</td>\n",
       "      <td>Celio</td>\n",
       "      <td>W38 | FR 48</td>\n",
       "      <td>Très bon état</td>\n",
       "      <td>NaN</td>\n",
       "      <td>Thoiry, France</td>\n",
       "      <td>Carte bancaire</td>\n",
       "      <td>61</td>\n",
       "      <td>12/25/2023, 10:46:04 AM</td>\n",
       "    </tr>\n",
       "    <tr>\n",
       "      <th>856</th>\n",
       "      <td>6,00</td>\n",
       "      <td>Denim Co</td>\n",
       "      <td>W32 | FR 42</td>\n",
       "      <td>Très bon état</td>\n",
       "      <td>NaN</td>\n",
       "      <td>France</td>\n",
       "      <td>Carte bancaire</td>\n",
       "      <td>0</td>\n",
       "      <td>12/29/2023, 12:11:03 PM</td>\n",
       "    </tr>\n",
       "    <tr>\n",
       "      <th>857</th>\n",
       "      <td>8,00</td>\n",
       "      <td>Jules</td>\n",
       "      <td>W30 | FR 40</td>\n",
       "      <td>Très bon état</td>\n",
       "      <td>NaN</td>\n",
       "      <td>Valenciennes, France</td>\n",
       "      <td>Carte bancaire</td>\n",
       "      <td>5</td>\n",
       "      <td>12/28/2023, 5:15:59 PM</td>\n",
       "    </tr>\n",
       "  </tbody>\n",
       "</table>\n",
       "<p>858 rows × 9 columns</p>\n",
       "</div>"
      ],
      "text/plain": [
       "    Prix (€)          Marque        Taille                 Etat Matière  \\\n",
       "0       6,00             NaN   W34 | FR 44        Très bon état     NaN   \n",
       "1       5,00  je ne sais pas   W30 | FR 40  Neuf sans étiquette   Coton   \n",
       "2       5,00            Zara   W32 | FR 42         Satisfaisant     NaN   \n",
       "3       8,00          Bonobo   W34 | FR 44        Très bon état     NaN   \n",
       "4       6,00            Zara   W30 | FR 40        Très bon état     NaN   \n",
       "..       ...             ...           ...                  ...     ...   \n",
       "853     5,50        Straight  XXS / 32 / 4        Très bon état   Denim   \n",
       "854     5,00             H&M   W23 | FR 32        Très bon état     NaN   \n",
       "855     5,00           Celio   W38 | FR 48        Très bon état     NaN   \n",
       "856     6,00        Denim Co   W32 | FR 42        Très bon état     NaN   \n",
       "857     8,00           Jules   W30 | FR 40        Très bon état     NaN   \n",
       "\n",
       "                       Localisation Option de paiement Vues  \\\n",
       "0                    Tourny, France     Carte bancaire   13   \n",
       "1                            France     Carte bancaire    0   \n",
       "2                   Riantec, France     Carte bancaire    2   \n",
       "3                            France     Carte bancaire    3   \n",
       "4                  Feignies, France     Carte bancaire    1   \n",
       "..                              ...                ...  ...   \n",
       "853  Chevillon-sur-Huillard, France     Carte bancaire    0   \n",
       "854                   Paris, France     Carte bancaire   12   \n",
       "855                  Thoiry, France     Carte bancaire   61   \n",
       "856                          France     Carte bancaire    0   \n",
       "857            Valenciennes, France     Carte bancaire    5   \n",
       "\n",
       "                Date d'ajout  \n",
       "0     12/28/2023, 6:19:17 PM  \n",
       "1    12/29/2023, 12:52:25 PM  \n",
       "2    12/29/2023, 10:43:33 AM  \n",
       "3    12/29/2023, 11:47:15 AM  \n",
       "4    12/29/2023, 11:39:14 AM  \n",
       "..                       ...  \n",
       "853  12/29/2023, 12:16:55 PM  \n",
       "854  12/27/2023, 12:27:55 PM  \n",
       "855  12/25/2023, 10:46:04 AM  \n",
       "856  12/29/2023, 12:11:03 PM  \n",
       "857   12/28/2023, 5:15:59 PM  \n",
       "\n",
       "[858 rows x 9 columns]"
      ]
     },
     "execution_count": 264,
     "metadata": {},
     "output_type": "execute_result"
    }
   ],
   "source": [
    "dfjean"
   ]
  },
  {
   "cell_type": "code",
   "execution_count": 241,
   "id": "6ebdcd0c-4edc-4678-84fc-15675e10ee5f",
   "metadata": {},
   "outputs": [
    {
     "data": {
      "text/plain": [
       "array([nan, 'je ne sais pas', 'Zara', 'Bonobo', 'Leeyo Jeans',\n",
       "       'Casual by Gémo', 'Redskins', 'Pull & Bear', 'Openfield', 'RAW',\n",
       "       'John H', 'Dockers', 'Brave Soul', 'Devred', 'Autograph', 'ICON',\n",
       "       'Jack & Jones', 'Kiliwatch', 'G-Star', 'sans marque', 'Dsquared2',\n",
       "       'Quiksilver', 'ASOS Design', 'Denim Co', 'Urban Rags',\n",
       "       'Tally Weijl', 'Celio', 'Sixth Sense', 'Bershka', 'Tailor & Son',\n",
       "       'Straight', 'Kiabi', 'Creeks', 'G-Star RAW', 'Siksilk',\n",
       "       'Red Bridge', 'Le Temps des Cerises', 'Ritchie', 'Wrangler',\n",
       "       'Jules', 'SMOG', 'districenter', 'Teddy Smith', 'GovdenimM5888',\n",
       "       'NEW Stone', \"Levi's\", 'Kaporal', 'Uniqlo', 'Sixth June', 'Diesel',\n",
       "       'Lee Cooper', 'Nike', 'Bonobo Jeans', 'Chevignon', 'Armand Thiery',\n",
       "       'Shein', 'Ross Carra', 'H&M', 'Calvin Klein', 'Antony Morato',\n",
       "       'Firetrap', 'BZB', 'Livergy', 'Levi Strauss & Co.', 'GANT',\n",
       "       'Cargo', 'Marithé + François Girbaud', 'RG512', 'Hollister'],\n",
       "      dtype=object)"
      ]
     },
     "execution_count": 241,
     "metadata": {},
     "output_type": "execute_result"
    }
   ],
   "source": [
    "dfjean.['Marque'].unique()"
   ]
  },
  {
   "cell_type": "code",
   "execution_count": 276,
   "id": "25126cd3-32d6-4e6a-a99e-dd2555eaf97b",
   "metadata": {},
   "outputs": [
    {
     "data": {
      "text/plain": [
       "Index([684, 747, 772, 835], dtype='int64')"
      ]
     },
     "execution_count": 276,
     "metadata": {},
     "output_type": "execute_result"
    }
   ],
   "source": [
    "dfjean['Marque'].where(dfjean['Marque']=='Levi Strauss & Co.').dropna().index"
   ]
  },
  {
   "cell_type": "code",
   "execution_count": 278,
   "id": "c2b767a6-81f2-4548-94f6-a168e7e910ab",
   "metadata": {},
   "outputs": [],
   "source": [
    "for i in dfjean['Marque'].where(dfjean['Marque']=='Levi Strauss & Co.').dropna().index :\n",
    "    dfjean['Marque'][i] = \"Levi's\""
   ]
  },
  {
   "cell_type": "code",
   "execution_count": 290,
   "id": "c3a81cec-6a35-49a8-88e9-8a72d230b1ef",
   "metadata": {},
   "outputs": [
    {
     "data": {
      "text/plain": [
       "array([nan, 'Zara', 'Bonobo', 'Leeyo Jeans', 'Casual by Gémo', 'Redskins',\n",
       "       'Pull & Bear', 'Openfield', 'RAW', 'John H', 'Dockers',\n",
       "       'Brave Soul', 'Devred', 'Autograph', 'ICON', 'Jack & Jones',\n",
       "       'Kiliwatch', 'G-Star', 'sans marque', 'Dsquared2', 'Quiksilver',\n",
       "       'ASOS Design', 'Denim Co', 'Urban Rags', 'Tally Weijl', 'Celio',\n",
       "       'Sixth Sense', 'Bershka', 'Tailor & Son', 'Straight', 'Kiabi',\n",
       "       'Creeks', 'G-star', 'Siksilk', 'Red Bridge',\n",
       "       'Le Temps des Cerises', 'Ritchie', 'Wrangler', 'Jules', 'SMOG',\n",
       "       'districenter', 'Teddy Smith', 'GovdenimM5888', 'NEW Stone',\n",
       "       \"Levi's\", 'Kaporal', 'Uniqlo', 'Sixth June', 'Diesel',\n",
       "       'Lee Cooper', 'Nike', 'Chevignon', 'Armand Thiery', 'Shein',\n",
       "       'Ross Carra', 'H&M', 'Calvin Klein', 'Antony Morato', 'Firetrap',\n",
       "       'BZB', 'Livergy', 'GANT', 'Cargo', 'Marithé + François Girbaud',\n",
       "       'RG512', 'Hollister'], dtype=object)"
      ]
     },
     "execution_count": 290,
     "metadata": {},
     "output_type": "execute_result"
    }
   ],
   "source": [
    "dfjean['Marque'].unique()"
   ]
  },
  {
   "cell_type": "code",
   "execution_count": 283,
   "id": "557e2596-1330-42df-a33e-c5824cfc42e1",
   "metadata": {},
   "outputs": [
    {
     "data": {
      "text/plain": [
       "Index([  1,  42,  88, 131, 173, 217, 259, 304, 344, 387, 429, 476, 514, 562,\n",
       "       599, 649, 716, 804],\n",
       "      dtype='int64')"
      ]
     },
     "execution_count": 283,
     "metadata": {},
     "output_type": "execute_result"
    }
   ],
   "source": [
    "dfjean['Marque'].where(dfjean['Marque']=='je ne sais pas').dropna().index"
   ]
  },
  {
   "cell_type": "code",
   "execution_count": 287,
   "id": "e75f7ea0-9301-4200-99b7-e38179550e3e",
   "metadata": {},
   "outputs": [],
   "source": [
    "for i in dfjean['Marque'].where(dfjean['Marque']=='je ne sais pas').dropna().index :\n",
    "    dfjean['Marque'][i] = float('nan')"
   ]
  },
  {
   "cell_type": "code",
   "execution_count": 288,
   "id": "c455fc50-9e21-41be-9d20-a9a91787fe26",
   "metadata": {},
   "outputs": [],
   "source": [
    "for i in dfjean['Marque'].where(dfjean['Marque']=='G-Star RAW').dropna().index :\n",
    "    dfjean['Marque'][i] = 'G-star'"
   ]
  },
  {
   "cell_type": "code",
   "execution_count": 289,
   "id": "977a99ea-15ad-4ee8-90ba-4e0494727934",
   "metadata": {},
   "outputs": [],
   "source": [
    "for i in dfjean['Marque'].where(dfjean['Marque']=='Bonobo Jeans').dropna().index :\n",
    "    dfjean['Marque'][i] = 'Bonobo'"
   ]
  },
  {
   "cell_type": "code",
   "execution_count": 299,
   "id": "f97d5685-04d1-4536-bec2-1cd6d61d4e35",
   "metadata": {},
   "outputs": [],
   "source": [
    "def France_deletor(x) :\n",
    "    return x[:-8]"
   ]
  },
  {
   "cell_type": "code",
   "execution_count": 304,
   "id": "a9fc4484-c194-4626-8a78-84ba0084548f",
   "metadata": {},
   "outputs": [],
   "source": [
    "dfjean['Localisation'] = dfjean['Localisation'].apply(France_deletor)"
   ]
  },
  {
   "cell_type": "code",
   "execution_count": 305,
   "id": "9b86f679-4ef1-4984-b98e-34a1799a573e",
   "metadata": {},
   "outputs": [
    {
     "data": {
      "text/html": [
       "<div>\n",
       "<style scoped>\n",
       "    .dataframe tbody tr th:only-of-type {\n",
       "        vertical-align: middle;\n",
       "    }\n",
       "\n",
       "    .dataframe tbody tr th {\n",
       "        vertical-align: top;\n",
       "    }\n",
       "\n",
       "    .dataframe thead th {\n",
       "        text-align: right;\n",
       "    }\n",
       "</style>\n",
       "<table border=\"1\" class=\"dataframe\">\n",
       "  <thead>\n",
       "    <tr style=\"text-align: right;\">\n",
       "      <th></th>\n",
       "      <th>Prix (€)</th>\n",
       "      <th>Marque</th>\n",
       "      <th>Taille</th>\n",
       "      <th>Etat</th>\n",
       "      <th>Matière</th>\n",
       "      <th>Localisation</th>\n",
       "      <th>Option de paiement</th>\n",
       "      <th>Vues</th>\n",
       "      <th>Date d'ajout</th>\n",
       "    </tr>\n",
       "  </thead>\n",
       "  <tbody>\n",
       "    <tr>\n",
       "      <th>0</th>\n",
       "      <td>6,00</td>\n",
       "      <td>NaN</td>\n",
       "      <td>W34 | FR 44</td>\n",
       "      <td>Très bon état</td>\n",
       "      <td>NaN</td>\n",
       "      <td>Tourny</td>\n",
       "      <td>Carte bancaire</td>\n",
       "      <td>13</td>\n",
       "      <td>12/28/2023, 6:19:17 PM</td>\n",
       "    </tr>\n",
       "    <tr>\n",
       "      <th>1</th>\n",
       "      <td>5,00</td>\n",
       "      <td>NaN</td>\n",
       "      <td>W30 | FR 40</td>\n",
       "      <td>Neuf sans étiquette</td>\n",
       "      <td>Coton</td>\n",
       "      <td></td>\n",
       "      <td>Carte bancaire</td>\n",
       "      <td>0</td>\n",
       "      <td>12/29/2023, 12:52:25 PM</td>\n",
       "    </tr>\n",
       "    <tr>\n",
       "      <th>2</th>\n",
       "      <td>5,00</td>\n",
       "      <td>Zara</td>\n",
       "      <td>W32 | FR 42</td>\n",
       "      <td>Satisfaisant</td>\n",
       "      <td>NaN</td>\n",
       "      <td>Riantec</td>\n",
       "      <td>Carte bancaire</td>\n",
       "      <td>2</td>\n",
       "      <td>12/29/2023, 10:43:33 AM</td>\n",
       "    </tr>\n",
       "    <tr>\n",
       "      <th>3</th>\n",
       "      <td>8,00</td>\n",
       "      <td>Bonobo</td>\n",
       "      <td>W34 | FR 44</td>\n",
       "      <td>Très bon état</td>\n",
       "      <td>NaN</td>\n",
       "      <td></td>\n",
       "      <td>Carte bancaire</td>\n",
       "      <td>3</td>\n",
       "      <td>12/29/2023, 11:47:15 AM</td>\n",
       "    </tr>\n",
       "    <tr>\n",
       "      <th>4</th>\n",
       "      <td>6,00</td>\n",
       "      <td>Zara</td>\n",
       "      <td>W30 | FR 40</td>\n",
       "      <td>Très bon état</td>\n",
       "      <td>NaN</td>\n",
       "      <td>Feignies</td>\n",
       "      <td>Carte bancaire</td>\n",
       "      <td>1</td>\n",
       "      <td>12/29/2023, 11:39:14 AM</td>\n",
       "    </tr>\n",
       "    <tr>\n",
       "      <th>...</th>\n",
       "      <td>...</td>\n",
       "      <td>...</td>\n",
       "      <td>...</td>\n",
       "      <td>...</td>\n",
       "      <td>...</td>\n",
       "      <td>...</td>\n",
       "      <td>...</td>\n",
       "      <td>...</td>\n",
       "      <td>...</td>\n",
       "    </tr>\n",
       "    <tr>\n",
       "      <th>853</th>\n",
       "      <td>5,50</td>\n",
       "      <td>Straight</td>\n",
       "      <td>XXS / 32 / 4</td>\n",
       "      <td>Très bon état</td>\n",
       "      <td>Denim</td>\n",
       "      <td>Chevillon-sur-Huillard</td>\n",
       "      <td>Carte bancaire</td>\n",
       "      <td>0</td>\n",
       "      <td>12/29/2023, 12:16:55 PM</td>\n",
       "    </tr>\n",
       "    <tr>\n",
       "      <th>854</th>\n",
       "      <td>5,00</td>\n",
       "      <td>H&amp;M</td>\n",
       "      <td>W23 | FR 32</td>\n",
       "      <td>Très bon état</td>\n",
       "      <td>NaN</td>\n",
       "      <td>Paris</td>\n",
       "      <td>Carte bancaire</td>\n",
       "      <td>12</td>\n",
       "      <td>12/27/2023, 12:27:55 PM</td>\n",
       "    </tr>\n",
       "    <tr>\n",
       "      <th>855</th>\n",
       "      <td>5,00</td>\n",
       "      <td>Celio</td>\n",
       "      <td>W38 | FR 48</td>\n",
       "      <td>Très bon état</td>\n",
       "      <td>NaN</td>\n",
       "      <td>Thoiry</td>\n",
       "      <td>Carte bancaire</td>\n",
       "      <td>61</td>\n",
       "      <td>12/25/2023, 10:46:04 AM</td>\n",
       "    </tr>\n",
       "    <tr>\n",
       "      <th>856</th>\n",
       "      <td>6,00</td>\n",
       "      <td>Denim Co</td>\n",
       "      <td>W32 | FR 42</td>\n",
       "      <td>Très bon état</td>\n",
       "      <td>NaN</td>\n",
       "      <td></td>\n",
       "      <td>Carte bancaire</td>\n",
       "      <td>0</td>\n",
       "      <td>12/29/2023, 12:11:03 PM</td>\n",
       "    </tr>\n",
       "    <tr>\n",
       "      <th>857</th>\n",
       "      <td>8,00</td>\n",
       "      <td>Jules</td>\n",
       "      <td>W30 | FR 40</td>\n",
       "      <td>Très bon état</td>\n",
       "      <td>NaN</td>\n",
       "      <td>Valenciennes</td>\n",
       "      <td>Carte bancaire</td>\n",
       "      <td>5</td>\n",
       "      <td>12/28/2023, 5:15:59 PM</td>\n",
       "    </tr>\n",
       "  </tbody>\n",
       "</table>\n",
       "<p>858 rows × 9 columns</p>\n",
       "</div>"
      ],
      "text/plain": [
       "    Prix (€)    Marque        Taille                 Etat Matière  \\\n",
       "0       6,00       NaN   W34 | FR 44        Très bon état     NaN   \n",
       "1       5,00       NaN   W30 | FR 40  Neuf sans étiquette   Coton   \n",
       "2       5,00      Zara   W32 | FR 42         Satisfaisant     NaN   \n",
       "3       8,00    Bonobo   W34 | FR 44        Très bon état     NaN   \n",
       "4       6,00      Zara   W30 | FR 40        Très bon état     NaN   \n",
       "..       ...       ...           ...                  ...     ...   \n",
       "853     5,50  Straight  XXS / 32 / 4        Très bon état   Denim   \n",
       "854     5,00       H&M   W23 | FR 32        Très bon état     NaN   \n",
       "855     5,00     Celio   W38 | FR 48        Très bon état     NaN   \n",
       "856     6,00  Denim Co   W32 | FR 42        Très bon état     NaN   \n",
       "857     8,00     Jules   W30 | FR 40        Très bon état     NaN   \n",
       "\n",
       "               Localisation Option de paiement Vues             Date d'ajout  \n",
       "0                    Tourny     Carte bancaire   13   12/28/2023, 6:19:17 PM  \n",
       "1                               Carte bancaire    0  12/29/2023, 12:52:25 PM  \n",
       "2                   Riantec     Carte bancaire    2  12/29/2023, 10:43:33 AM  \n",
       "3                               Carte bancaire    3  12/29/2023, 11:47:15 AM  \n",
       "4                  Feignies     Carte bancaire    1  12/29/2023, 11:39:14 AM  \n",
       "..                      ...                ...  ...                      ...  \n",
       "853  Chevillon-sur-Huillard     Carte bancaire    0  12/29/2023, 12:16:55 PM  \n",
       "854                   Paris     Carte bancaire   12  12/27/2023, 12:27:55 PM  \n",
       "855                  Thoiry     Carte bancaire   61  12/25/2023, 10:46:04 AM  \n",
       "856                             Carte bancaire    0  12/29/2023, 12:11:03 PM  \n",
       "857            Valenciennes     Carte bancaire    5   12/28/2023, 5:15:59 PM  \n",
       "\n",
       "[858 rows x 9 columns]"
      ]
     },
     "execution_count": 305,
     "metadata": {},
     "output_type": "execute_result"
    }
   ],
   "source": [
    "dfjean"
   ]
  },
  {
   "cell_type": "code",
   "execution_count": null,
   "id": "c1394132-fea9-4696-bf6a-50b433e3ce0e",
   "metadata": {},
   "outputs": [],
   "source": []
  }
 ],
 "metadata": {
  "kernelspec": {
   "display_name": "Python 3 (ipykernel)",
   "language": "python",
   "name": "python3"
  },
  "language_info": {
   "codemirror_mode": {
    "name": "ipython",
    "version": 3
   },
   "file_extension": ".py",
   "mimetype": "text/x-python",
   "name": "python",
   "nbconvert_exporter": "python",
   "pygments_lexer": "ipython3",
   "version": "3.10.13"
  }
 },
 "nbformat": 4,
 "nbformat_minor": 5
}
